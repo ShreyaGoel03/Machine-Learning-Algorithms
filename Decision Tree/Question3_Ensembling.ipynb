{
  "nbformat": 4,
  "nbformat_minor": 0,
  "metadata": {
    "colab": {
      "name": "Question3.ipynb",
      "provenance": []
    },
    "kernelspec": {
      "name": "python3",
      "display_name": "Python 3"
    }
  },
  "cells": [
    {
      "cell_type": "code",
      "metadata": {
        "id": "e8uEFawTwzQe",
        "outputId": "d0879c93-1b2b-4a35-ccf7-64ed14c276ca",
        "colab": {
          "base_uri": "https://localhost:8080/",
          "height": 34
        }
      },
      "source": [
        "from google.colab import drive\n",
        "drive.mount('/content/drive/')"
      ],
      "execution_count": 1,
      "outputs": [
        {
          "output_type": "stream",
          "text": [
            "Mounted at /content/drive/\n"
          ],
          "name": "stdout"
        }
      ]
    },
    {
      "cell_type": "code",
      "metadata": {
        "id": "3c35f-xEjpcH"
      },
      "source": [
        "#Library to load Dataset\n",
        "from scipy.io import loadmat\n",
        "import numpy as np\n",
        "import pandas as pd\n",
        "import seaborn as sns\n",
        "import matplotlib.pyplot as plt\n",
        "#Library for Decision Tree Classifier\n",
        "from sklearn.tree import DecisionTreeClassifier \n",
        "#Library for measuring accuracy\n",
        "from sklearn.metrics import accuracy_score \n",
        "#Library to shuffle the Dataset\n",
        "from sklearn.utils import shuffle"
      ],
      "execution_count": 2,
      "outputs": []
    },
    {
      "cell_type": "code",
      "metadata": {
        "id": "4a2B3ScokFu2",
        "outputId": "06d795f9-bbb9-4b77-8ff4-f2b72a978a24",
        "colab": {
          "base_uri": "https://localhost:8080/",
          "height": 143
        }
      },
      "source": [
        "#Loading the Dataset3\n",
        "data_3 = pd.read_csv(\"/content/PRSA_data_2010.1.1-2014.12.31.csv\")\n",
        "print(data_3.head())"
      ],
      "execution_count": 3,
      "outputs": [
        {
          "output_type": "stream",
          "text": [
            "   No  year  month  day  hour  pm2.5  DEWP  TEMP    PRES cbwd    Iws  Is  Ir\n",
            "0   1  2010      1    1     0    NaN   -21 -11.0  1021.0   NW   1.79   0   0\n",
            "1   2  2010      1    1     1    NaN   -21 -12.0  1020.0   NW   4.92   0   0\n",
            "2   3  2010      1    1     2    NaN   -21 -11.0  1019.0   NW   6.71   0   0\n",
            "3   4  2010      1    1     3    NaN   -21 -14.0  1019.0   NW   9.84   0   0\n",
            "4   5  2010      1    1     4    NaN   -20 -12.0  1018.0   NW  12.97   0   0\n"
          ],
          "name": "stdout"
        }
      ]
    },
    {
      "cell_type": "code",
      "metadata": {
        "id": "uvyxQuOk6YkW",
        "outputId": "9e70633e-e0f4-4aab-bbcf-6cfff81831f8",
        "colab": {
          "base_uri": "https://localhost:8080/",
          "height": 443
        }
      },
      "source": [
        "#Printing the Data\n",
        "print(data_3.shape)\n",
        "print(data_3['pm2.5'].describe())\n",
        "print(data_3.dtypes)"
      ],
      "execution_count": 4,
      "outputs": [
        {
          "output_type": "stream",
          "text": [
            "(43824, 13)\n",
            "count    41757.000000\n",
            "mean        98.613215\n",
            "std         92.050387\n",
            "min          0.000000\n",
            "25%         29.000000\n",
            "50%         72.000000\n",
            "75%        137.000000\n",
            "max        994.000000\n",
            "Name: pm2.5, dtype: float64\n",
            "No         int64\n",
            "year       int64\n",
            "month      int64\n",
            "day        int64\n",
            "hour       int64\n",
            "pm2.5    float64\n",
            "DEWP       int64\n",
            "TEMP     float64\n",
            "PRES     float64\n",
            "cbwd      object\n",
            "Iws      float64\n",
            "Is         int64\n",
            "Ir         int64\n",
            "dtype: object\n"
          ],
          "name": "stdout"
        }
      ]
    },
    {
      "cell_type": "code",
      "metadata": {
        "id": "-CHXGUbSkLZH",
        "outputId": "8d7bd39d-3c06-45ec-b210-34566b48b7de",
        "colab": {
          "base_uri": "https://localhost:8080/",
          "height": 197
        }
      },
      "source": [
        "#Delete the NO Column\n",
        "del data_3[\"No\"]\n",
        "data_3.head()"
      ],
      "execution_count": 5,
      "outputs": [
        {
          "output_type": "execute_result",
          "data": {
            "text/html": [
              "<div>\n",
              "<style scoped>\n",
              "    .dataframe tbody tr th:only-of-type {\n",
              "        vertical-align: middle;\n",
              "    }\n",
              "\n",
              "    .dataframe tbody tr th {\n",
              "        vertical-align: top;\n",
              "    }\n",
              "\n",
              "    .dataframe thead th {\n",
              "        text-align: right;\n",
              "    }\n",
              "</style>\n",
              "<table border=\"1\" class=\"dataframe\">\n",
              "  <thead>\n",
              "    <tr style=\"text-align: right;\">\n",
              "      <th></th>\n",
              "      <th>year</th>\n",
              "      <th>month</th>\n",
              "      <th>day</th>\n",
              "      <th>hour</th>\n",
              "      <th>pm2.5</th>\n",
              "      <th>DEWP</th>\n",
              "      <th>TEMP</th>\n",
              "      <th>PRES</th>\n",
              "      <th>cbwd</th>\n",
              "      <th>Iws</th>\n",
              "      <th>Is</th>\n",
              "      <th>Ir</th>\n",
              "    </tr>\n",
              "  </thead>\n",
              "  <tbody>\n",
              "    <tr>\n",
              "      <th>0</th>\n",
              "      <td>2010</td>\n",
              "      <td>1</td>\n",
              "      <td>1</td>\n",
              "      <td>0</td>\n",
              "      <td>NaN</td>\n",
              "      <td>-21</td>\n",
              "      <td>-11.0</td>\n",
              "      <td>1021.0</td>\n",
              "      <td>NW</td>\n",
              "      <td>1.79</td>\n",
              "      <td>0</td>\n",
              "      <td>0</td>\n",
              "    </tr>\n",
              "    <tr>\n",
              "      <th>1</th>\n",
              "      <td>2010</td>\n",
              "      <td>1</td>\n",
              "      <td>1</td>\n",
              "      <td>1</td>\n",
              "      <td>NaN</td>\n",
              "      <td>-21</td>\n",
              "      <td>-12.0</td>\n",
              "      <td>1020.0</td>\n",
              "      <td>NW</td>\n",
              "      <td>4.92</td>\n",
              "      <td>0</td>\n",
              "      <td>0</td>\n",
              "    </tr>\n",
              "    <tr>\n",
              "      <th>2</th>\n",
              "      <td>2010</td>\n",
              "      <td>1</td>\n",
              "      <td>1</td>\n",
              "      <td>2</td>\n",
              "      <td>NaN</td>\n",
              "      <td>-21</td>\n",
              "      <td>-11.0</td>\n",
              "      <td>1019.0</td>\n",
              "      <td>NW</td>\n",
              "      <td>6.71</td>\n",
              "      <td>0</td>\n",
              "      <td>0</td>\n",
              "    </tr>\n",
              "    <tr>\n",
              "      <th>3</th>\n",
              "      <td>2010</td>\n",
              "      <td>1</td>\n",
              "      <td>1</td>\n",
              "      <td>3</td>\n",
              "      <td>NaN</td>\n",
              "      <td>-21</td>\n",
              "      <td>-14.0</td>\n",
              "      <td>1019.0</td>\n",
              "      <td>NW</td>\n",
              "      <td>9.84</td>\n",
              "      <td>0</td>\n",
              "      <td>0</td>\n",
              "    </tr>\n",
              "    <tr>\n",
              "      <th>4</th>\n",
              "      <td>2010</td>\n",
              "      <td>1</td>\n",
              "      <td>1</td>\n",
              "      <td>4</td>\n",
              "      <td>NaN</td>\n",
              "      <td>-20</td>\n",
              "      <td>-12.0</td>\n",
              "      <td>1018.0</td>\n",
              "      <td>NW</td>\n",
              "      <td>12.97</td>\n",
              "      <td>0</td>\n",
              "      <td>0</td>\n",
              "    </tr>\n",
              "  </tbody>\n",
              "</table>\n",
              "</div>"
            ],
            "text/plain": [
              "   year  month  day  hour  pm2.5  DEWP  TEMP    PRES cbwd    Iws  Is  Ir\n",
              "0  2010      1    1     0    NaN   -21 -11.0  1021.0   NW   1.79   0   0\n",
              "1  2010      1    1     1    NaN   -21 -12.0  1020.0   NW   4.92   0   0\n",
              "2  2010      1    1     2    NaN   -21 -11.0  1019.0   NW   6.71   0   0\n",
              "3  2010      1    1     3    NaN   -21 -14.0  1019.0   NW   9.84   0   0\n",
              "4  2010      1    1     4    NaN   -20 -12.0  1018.0   NW  12.97   0   0"
            ]
          },
          "metadata": {
            "tags": []
          },
          "execution_count": 5
        }
      ]
    },
    {
      "cell_type": "code",
      "metadata": {
        "id": "voHesqhy4O2i",
        "outputId": "d9dc4fc9-475e-4637-eefd-febc533af712",
        "colab": {
          "base_uri": "https://localhost:8080/",
          "height": 514
        }
      },
      "source": [
        "#Finding the Null columns\n",
        "null_columns = data_3.columns[data_3.isnull().any()]\n",
        "print(null_columns)\n",
        "print(data_3.isnull().sum()) \n",
        "print(data_3[data_3.isnull().any(axis=1)][null_columns])"
      ],
      "execution_count": 6,
      "outputs": [
        {
          "output_type": "stream",
          "text": [
            "Index(['pm2.5'], dtype='object')\n",
            "year        0\n",
            "month       0\n",
            "day         0\n",
            "hour        0\n",
            "pm2.5    2067\n",
            "DEWP        0\n",
            "TEMP        0\n",
            "PRES        0\n",
            "cbwd        0\n",
            "Iws         0\n",
            "Is          0\n",
            "Ir          0\n",
            "dtype: int64\n",
            "       pm2.5\n",
            "0        NaN\n",
            "1        NaN\n",
            "2        NaN\n",
            "3        NaN\n",
            "4        NaN\n",
            "...      ...\n",
            "43548    NaN\n",
            "43549    NaN\n",
            "43550    NaN\n",
            "43551    NaN\n",
            "43552    NaN\n",
            "\n",
            "[2067 rows x 1 columns]\n"
          ],
          "name": "stdout"
        }
      ]
    },
    {
      "cell_type": "code",
      "metadata": {
        "id": "iqFx8EJ85h3g",
        "outputId": "2dc9fcc6-631a-4319-ddc8-f4701c4091df",
        "colab": {
          "base_uri": "https://localhost:8080/",
          "height": 352
        }
      },
      "source": [
        "#Plotting pm2.5 to check to how to replace Null values with \n",
        "sns.boxplot(data_3['pm2.5'])"
      ],
      "execution_count": 7,
      "outputs": [
        {
          "output_type": "stream",
          "text": [
            "/usr/local/lib/python3.6/dist-packages/seaborn/_decorators.py:43: FutureWarning: Pass the following variable as a keyword arg: x. From version 0.12, the only valid positional argument will be `data`, and passing other arguments without an explicit keyword will result in an error or misinterpretation.\n",
            "  FutureWarning\n"
          ],
          "name": "stderr"
        },
        {
          "output_type": "execute_result",
          "data": {
            "text/plain": [
              "<matplotlib.axes._subplots.AxesSubplot at 0x7f028d7ee828>"
            ]
          },
          "metadata": {
            "tags": []
          },
          "execution_count": 7
        },
        {
          "output_type": "display_data",
          "data": {
            "image/png": "[encoded data removed]",
            "text/plain": [
              "<Figure size 432x288 with 1 Axes>"
            ]
          },
          "metadata": {
            "tags": [],
            "needs_background": "light"
          }
        }
      ]
    },
    {
      "cell_type": "code",
      "metadata": {
        "id": "p4X2PEvqHJNH",
        "outputId": "efa8f7bd-e10e-4e0d-8fcc-a9343424ba29",
        "colab": {
          "base_uri": "https://localhost:8080/",
          "height": 352
        }
      },
      "source": [
        "#Plotting pm2.5 to check to how to replace Null values with \n",
        "sns.distplot(data_3['pm2.5'])"
      ],
      "execution_count": 8,
      "outputs": [
        {
          "output_type": "stream",
          "text": [
            "/usr/local/lib/python3.6/dist-packages/seaborn/distributions.py:2551: FutureWarning: `distplot` is a deprecated function and will be removed in a future version. Please adapt your code to use either `displot` (a figure-level function with similar flexibility) or `histplot` (an axes-level function for histograms).\n",
            "  warnings.warn(msg, FutureWarning)\n"
          ],
          "name": "stderr"
        },
        {
          "output_type": "execute_result",
          "data": {
            "text/plain": [
              "<matplotlib.axes._subplots.AxesSubplot at 0x7f028d749198>"
            ]
          },
          "metadata": {
            "tags": []
          },
          "execution_count": 8
        },
        {
          "output_type": "display_data",
          "data": {
            "image/png": "[encoded data removed]",
            "text/plain": [
              "<Figure size 432x288 with 1 Axes>"
            ]
          },
          "metadata": {
            "tags": [],
            "needs_background": "light"
          }
        }
      ]
    },
    {
      "cell_type": "code",
      "metadata": {
        "id": "K6_QKNb17jz_",
        "outputId": "ca504b46-91f4-4809-c5a9-a19000dbf8fc",
        "colab": {
          "base_uri": "https://localhost:8080/",
          "height": 34
        }
      },
      "source": [
        "#Find Median\n",
        "median = data_3['pm2.5'].median()\n",
        "print(median)"
      ],
      "execution_count": 9,
      "outputs": [
        {
          "output_type": "stream",
          "text": [
            "72.0\n"
          ],
          "name": "stdout"
        }
      ]
    },
    {
      "cell_type": "code",
      "metadata": {
        "id": "l1JZRwFzHf7h",
        "outputId": "31a3400d-5018-4ca9-b10c-500730fc381e",
        "colab": {
          "base_uri": "https://localhost:8080/",
          "height": 247
        }
      },
      "source": [
        "#Replacing Null values with median value since the data is skewed\n",
        "data_3['pm2.5'] = data_3['pm2.5'].fillna(data_3['pm2.5'].median())\n",
        "print(data_3.isnull().sum()) "
      ],
      "execution_count": 10,
      "outputs": [
        {
          "output_type": "stream",
          "text": [
            "year     0\n",
            "month    0\n",
            "day      0\n",
            "hour     0\n",
            "pm2.5    0\n",
            "DEWP     0\n",
            "TEMP     0\n",
            "PRES     0\n",
            "cbwd     0\n",
            "Iws      0\n",
            "Is       0\n",
            "Ir       0\n",
            "dtype: int64\n"
          ],
          "name": "stdout"
        }
      ]
    },
    {
      "cell_type": "code",
      "metadata": {
        "id": "ykDW4isaIylo",
        "outputId": "a6898b81-38ec-4858-ab27-b242783b3482",
        "colab": {
          "base_uri": "https://localhost:8080/",
          "height": 265
        }
      },
      "source": [
        "#Shuffle the Dataset\n",
        "data_3 = data_3.sample(frac=1)\n",
        "print(data_3)"
      ],
      "execution_count": 22,
      "outputs": [
        {
          "output_type": "stream",
          "text": [
            "       year  month  day  hour  pm2.5  DEWP  TEMP    PRES cbwd    Iws  Is  Ir\n",
            "2360   2010      4    9     8   62.0     0  13.0  1012.0   NE  22.35   0   0\n",
            "42289  2014     10   29     1  101.0     5   8.0  1025.0   cv   0.89   0   0\n",
            "26606  2013      1   13    14   72.0    -5   0.0  1023.0   SE   1.79   0   0\n",
            "16094  2011     11    2    14   32.0     0  15.0  1028.0   cv   0.89   0   0\n",
            "31009  2013      7   16     1   60.0    23  24.0   996.0   cv   1.78   0   0\n",
            "...     ...    ...  ...   ...    ...   ...   ...     ...  ...    ...  ..  ..\n",
            "4237   2010      6   26    13  150.0    17  30.0  1006.0   SE   8.05   0   0\n",
            "21271  2012      6    5     7   87.0    15  23.0  1005.0   NW  11.62   0   0\n",
            "3272   2010      5   17     8   53.0    13  14.0  1011.0   SE   1.79   0   0\n",
            "20591  2012      5    7    23   84.0    -1  21.0  1006.0   SE   9.84   0   0\n",
            "25051  2012     11    9    19  105.0     3   6.0  1025.0   NE   0.89   0   0\n",
            "\n",
            "[43824 rows x 12 columns]\n"
          ],
          "name": "stdout"
        }
      ]
    },
    {
      "cell_type": "code",
      "metadata": {
        "id": "qI9o1D_BJLX7"
      },
      "source": [
        "#Storing the data x and the target='month' values of the Dataset\n",
        "target = data_3['month']\n",
        "data_x = data_3.drop([\"month\"],axis=1)"
      ],
      "execution_count": 23,
      "outputs": []
    },
    {
      "cell_type": "code",
      "metadata": {
        "id": "ajN4bHQpJo1R",
        "outputId": "44f38f82-0948-40f9-c8cf-ba259e474d94",
        "colab": {
          "base_uri": "https://localhost:8080/",
          "height": 392
        }
      },
      "source": [
        "#Encoding the cbwd column with NW as 0, cv as 1, NE as 2, and SE as 3\n",
        "data_x.cbwd[data_x.cbwd == 'NW'] = 0\n",
        "data_x.cbwd[data_x.cbwd == 'cv'] = 1\n",
        "data_x.cbwd[data_x.cbwd == 'NE'] = 2\n",
        "data_x.cbwd[data_x.cbwd == 'SE'] = 3"
      ],
      "execution_count": 24,
      "outputs": [
        {
          "output_type": "stream",
          "text": [
            "/usr/local/lib/python3.6/dist-packages/ipykernel_launcher.py:2: SettingWithCopyWarning: \n",
            "A value is trying to be set on a copy of a slice from a DataFrame\n",
            "\n",
            "See the caveats in the documentation: https://pandas.pydata.org/pandas-docs/stable/user_guide/indexing.html#returning-a-view-versus-a-copy\n",
            "  \n",
            "/usr/local/lib/python3.6/dist-packages/ipykernel_launcher.py:3: SettingWithCopyWarning: \n",
            "A value is trying to be set on a copy of a slice from a DataFrame\n",
            "\n",
            "See the caveats in the documentation: https://pandas.pydata.org/pandas-docs/stable/user_guide/indexing.html#returning-a-view-versus-a-copy\n",
            "  This is separate from the ipykernel package so we can avoid doing imports until\n",
            "/usr/local/lib/python3.6/dist-packages/ipykernel_launcher.py:4: SettingWithCopyWarning: \n",
            "A value is trying to be set on a copy of a slice from a DataFrame\n",
            "\n",
            "See the caveats in the documentation: https://pandas.pydata.org/pandas-docs/stable/user_guide/indexing.html#returning-a-view-versus-a-copy\n",
            "  after removing the cwd from sys.path.\n",
            "/usr/local/lib/python3.6/dist-packages/ipykernel_launcher.py:5: SettingWithCopyWarning: \n",
            "A value is trying to be set on a copy of a slice from a DataFrame\n",
            "\n",
            "See the caveats in the documentation: https://pandas.pydata.org/pandas-docs/stable/user_guide/indexing.html#returning-a-view-versus-a-copy\n",
            "  \"\"\"\n"
          ],
          "name": "stderr"
        }
      ]
    },
    {
      "cell_type": "code",
      "metadata": {
        "id": "2B1V7khyKP5E",
        "outputId": "0af7882c-9331-4a2e-9a8a-946d5fb29727",
        "colab": {
          "base_uri": "https://localhost:8080/",
          "height": 123
        }
      },
      "source": [
        "print(data_x.head())"
      ],
      "execution_count": 25,
      "outputs": [
        {
          "output_type": "stream",
          "text": [
            "       year  day  hour  pm2.5  DEWP  TEMP    PRES cbwd    Iws  Is  Ir\n",
            "2360   2010    9     8   62.0     0  13.0  1012.0    2  22.35   0   0\n",
            "42289  2014   29     1  101.0     5   8.0  1025.0    1   0.89   0   0\n",
            "26606  2013   13    14   72.0    -5   0.0  1023.0    3   1.79   0   0\n",
            "16094  2011    2    14   32.0     0  15.0  1028.0    1   0.89   0   0\n",
            "31009  2013   16     1   60.0    23  24.0   996.0    1   1.78   0   0\n"
          ],
          "name": "stdout"
        }
      ]
    },
    {
      "cell_type": "code",
      "metadata": {
        "id": "4e_IfDL35DT5"
      },
      "source": [
        "#Function to implement the split the data into train and test data\n",
        "def split_train_test(data_x,data_y,percentage,total):\n",
        "  split_size = int((percentage*total)/100)\n",
        "  x_train = data_x[0:split_size]\n",
        "  x_test = data_x[split_size:total]\n",
        "  y_train = data_y[0:split_size]\n",
        "  y_test = data_y[split_size:total]\n",
        "  return x_train,x_test,y_train,y_test"
      ],
      "execution_count": 26,
      "outputs": []
    },
    {
      "cell_type": "code",
      "metadata": {
        "id": "XvU3MIIbLYFr"
      },
      "source": [
        "#Function to find accuracy\n",
        "def find_accuracy(y_predict,y_test,n):\n",
        "  true_positive = 0\n",
        "  false_negative = 0\n",
        "  for i in range(0,n):\n",
        "    #Finding the true matched values\n",
        "    true_positive = true_positive + int(y_predict[i] == y_test[i])\n",
        "    #Finding the unmatched values\n",
        "    false_negative = false_negative + int(y_predict[i] != y_test[i])\n",
        "    #Finding total values\n",
        "    total = true_positive + false_negative\n",
        "    #Find the accuracy\n",
        "    accuracy = true_positive/total\n",
        "    accuracy = accuracy*100\n",
        "  return accuracy"
      ],
      "execution_count": 27,
      "outputs": []
    },
    {
      "cell_type": "code",
      "metadata": {
        "id": "UE4VIyrCKV61",
        "outputId": "8794afd4-d9fc-4346-811e-8271c5f8d867",
        "colab": {
          "base_uri": "https://localhost:8080/",
          "height": 87
        }
      },
      "source": [
        "#Splitting the dataset in to 80:20\n",
        "x_train,x_test,y_train,y_test = split_train_test(data_x,target,80,43824)\n",
        "print(x_train.shape)\n",
        "print(x_test.shape)\n",
        "print(y_train.shape)\n",
        "print(y_test.shape)"
      ],
      "execution_count": 28,
      "outputs": [
        {
          "output_type": "stream",
          "text": [
            "(35059, 11)\n",
            "(8765, 11)\n",
            "(35059,)\n",
            "(8765,)\n"
          ],
          "name": "stdout"
        }
      ]
    },
    {
      "cell_type": "code",
      "metadata": {
        "id": "JgKNro4mKoEb",
        "outputId": "c9408b08-c3e3-4e61-84dc-2291266f1550",
        "colab": {
          "base_uri": "https://localhost:8080/",
          "height": 52
        }
      },
      "source": [
        "def Q3_a(x_train,x_test,y_train,y_test):\n",
        "  #Applying the gini model\n",
        "  model_gini = DecisionTreeClassifier(criterion = 'gini')\n",
        "  model_gini.fit(x_train,y_train)\n",
        "  predict_gini = model_gini.predict(x_test)\n",
        "  #Applying the entropy model\n",
        "  model_entropy = DecisionTreeClassifier(criterion = 'entropy')\n",
        "  model_entropy.fit(x_train,y_train)\n",
        "  predict_entropy = model_entropy.predict(x_test)\n",
        "  #Finding the accuracy of both the models\n",
        "  accuracy_gini = find_accuracy(predict_gini,y_test.tolist(),y_test.size)\n",
        "  accuracy_entropy = find_accuracy(predict_entropy,y_test.tolist(),y_test.size)\n",
        "  print(\"Accuracy of Model using Gini \", accuracy_gini)\n",
        "  print(\"Accuracy of Model using Entropy \", accuracy_entropy)\n",
        "Q3_a(x_train,x_test,y_train,y_test)"
      ],
      "execution_count": 29,
      "outputs": [
        {
          "output_type": "stream",
          "text": [
            "Accuracy of Model using Gini  83.01197946377638\n",
            "Accuracy of Model using Entropy  84.312606959498\n"
          ],
          "name": "stdout"
        }
      ]
    },
    {
      "cell_type": "code",
      "metadata": {
        "id": "h0ehPVVRMlmL",
        "outputId": "f55e9807-f7a5-4ac5-92f0-f061a3cddaa7",
        "colab": {
          "base_uri": "https://localhost:8080/",
          "height": 330
        }
      },
      "source": [
        "def Q3_b(x_train,x_test,y_train,y_test):\n",
        "  #Depths to be tried\n",
        "  depths = [2,4,8,10,15,30]\n",
        "  #Storing the test and train accuracy\n",
        "  test_accuracy = []\n",
        "  train_accuracy = []\n",
        "  #Iterate over depths\n",
        "  for depth in depths:\n",
        "    #Decision Tree classifier for predicting on testing data\n",
        "    model_test = DecisionTreeClassifier(criterion = 'entropy',max_depth=depth)\n",
        "    model_test.fit(x_train,y_train)\n",
        "    predict_test = model_test.predict(x_test)\n",
        "    #Decision Tree classifier for predicting on training data\n",
        "    predict_train = model_test.predict(x_train)\n",
        "    #Finding both test and train accuracy\n",
        "    test_accuracy.append(find_accuracy(predict_test,y_test.tolist(),y_test.size))\n",
        "    train_accuracy.append(find_accuracy(predict_train,y_train.tolist(),y_train.size))\n",
        "  #Best value of Depth with maximum accuracy\n",
        "  print('Best Value of Depth by testing accuracy', depths[test_accuracy.index(max(test_accuracy))])\n",
        "  print('Best Value of Depth by training accuracy', depths[train_accuracy.index(max(train_accuracy))])\n",
        "  #Plot the Depth and Testing Accuracy and Training Accuracy\n",
        "  plt.plot(depths,test_accuracy,marker='o',color='b',label = 'Testing Accuracy')\n",
        "  plt.plot(depths,train_accuracy,marker='o',color='r',label = 'Training Accuracy')\n",
        "  plt.xlabel('Depths')\n",
        "  plt.ylabel('Testing Accuracy and Training Accuracy')\n",
        "  plt.title(\"Curve between Depth and Testing Accuracy and Training Accuracy\")\n",
        "  plt.legend(loc='lower right')\n",
        "  plt.show()\n",
        "Q3_b(x_train,x_test,y_train,y_test)"
      ],
      "execution_count": 30,
      "outputs": [
        {
          "output_type": "stream",
          "text": [
            "Best Value of Depth by testing accuracy 30\n",
            "Best Value of Depth by training accuracy 30\n"
          ],
          "name": "stdout"
        },
        {
          "output_type": "display_data",
          "data": {
            "image/png": "[encoded data removed]",
            "text/plain": [
              "<Figure size 432x288 with 1 Axes>"
            ]
          },
          "metadata": {
            "tags": [],
            "needs_background": "light"
          }
        }
      ]
    },
    {
      "cell_type": "code",
      "metadata": {
        "id": "rBn9Q8ZdQh_T",
        "outputId": "9aaf7e25-2ba8-489f-93f9-b011b673c15a",
        "colab": {
          "base_uri": "https://localhost:8080/",
          "height": 105
        }
      },
      "source": [
        "#Splitting the Dataset into 50% of the 80% Training Data\n",
        "X_train,X_test,Y_train,Y_test = split_train_test(x_train,y_train,50,x_train.shape[0])\n",
        "print(X_train.shape)\n",
        "print(X_test.shape)\n",
        "print(Y_train.shape)\n",
        "print(Y_test.shape)\n",
        "train_data = x_train.copy()\n",
        "train_data['month'] = y_train.tolist()\n",
        "print(train_data.shape)"
      ],
      "execution_count": 31,
      "outputs": [
        {
          "output_type": "stream",
          "text": [
            "(17529, 11)\n",
            "(17530, 11)\n",
            "(17529,)\n",
            "(17530,)\n",
            "(35059, 12)\n"
          ],
          "name": "stdout"
        }
      ]
    },
    {
      "cell_type": "code",
      "metadata": {
        "id": "f_GpSXcvTSII"
      },
      "source": [
        "#making the decision stumps\n",
        "def decision_stumps(trees,depth,train_data,x_test_pred):\n",
        "  #adding the predicted value after all the decision stumps\n",
        "  predicted_val = []\n",
        "  #iterate over all trees\n",
        "  for i in range(1,trees+1):\n",
        "    #Shuffle the train data(80%)\n",
        "    train_data = train_data.sample(frac=1)\n",
        "    #getting the columns except the target value as x_data\n",
        "    data_x = train_data.loc[:, train_data.columns != 'month']\n",
        "    #y_data as the target value which is month\n",
        "    data_y = train_data['month']\n",
        "    #splitting the data into 50% from the 80% data\n",
        "    X_train,X_test,Y_train,Y_test = split_train_test(data_x,data_y,50,data_x.shape[0])\n",
        "    #Making the decision tree classifier\n",
        "    model_test = DecisionTreeClassifier(criterion = 'entropy',max_depth = depth)\n",
        "    model_test.fit(X_train,Y_train)\n",
        "    predict_test = model_test.predict(x_test_pred)\n",
        "    #adding the predicted value \n",
        "    predicted_val.append(predict_test)\n",
        "  return predicted_val"
      ],
      "execution_count": 32,
      "outputs": []
    },
    {
      "cell_type": "code",
      "metadata": {
        "id": "h7FmoE2jPDFd",
        "outputId": "5c21be6b-b381-4e37-863c-7194646d4ab0",
        "colab": {
          "base_uri": "https://localhost:8080/",
          "height": 34
        }
      },
      "source": [
        "def Q3_c(train_data,x_test):\n",
        "  depth = 3\n",
        "  trees = 100\n",
        "  #final predicted value from the majority vote of all decision trees\n",
        "  final_pred = []\n",
        "  #Getting the all predicted values from all decision trees\n",
        "  predicted_data = decision_stumps(trees,depth,train_data,x_test)\n",
        "  #Finding the majority vote by iterating over predicted values from test datafrom all decision trees\n",
        "  for i in range(0,x_test.shape[0]):\n",
        "    list_values = []\n",
        "    for j in range(0, trees):\n",
        "      list_values.append(predicted_data[j][i])\n",
        "    #Finding the mod for each of the respective predicted test value from all decision tree\n",
        "    list_values.sort()\n",
        "    values = set(list_values)\n",
        "    store_mod = dict.fromkeys(values,0)\n",
        "    key = 0\n",
        "    for key in store_mod.keys():\n",
        "      store_mod[key] = list_values.count(key)\n",
        "    store_mod = dict(sorted(store_mod.items(), key = lambda x : x[1],reverse=True))\n",
        "    #Storing the majority vote\n",
        "    final_pred.append(list(store_mod.keys())[0])\n",
        "  #printing the predicted values of test data\n",
        "  ensemble_data = pd.DataFrame(list(zip(final_pred,y_test)),columns = [\"Predicted Values\",\"Actual Values\"])\n",
        "  #finding accuracy\n",
        "  accuracy = find_accuracy(final_pred , y_test.tolist() , y_test.shape[0])\n",
        "  print(\"The Accuracy is \",accuracy)\n",
        "  #print(ensemble_data.to_string(index=False))\n",
        "Q3_c(train_data,x_test)"
      ],
      "execution_count": 33,
      "outputs": [
        {
          "output_type": "stream",
          "text": [
            "The Accuracy is  34.27267541357673\n"
          ],
          "name": "stdout"
        }
      ]
    },
    {
      "cell_type": "code",
      "metadata": {
        "id": "mHCsvjshxtLr"
      },
      "source": [
        "#Trying to tune the decision stumps by changing trees and depth to analyse the effect on test data\n",
        "def testing_3d_data(train_data,x_test):\n",
        "  #storing the test accuracy\n",
        "  test_accuracy = []\n",
        "  #depths and number of trees to try to tune\n",
        "  depths = [4,8,10,15,20,30]\n",
        "  trees = [5,10,50,100]\n",
        "  #Iterate over depths\n",
        "  for depth in depths:\n",
        "    print(depth)\n",
        "    test_accuracy_part = []\n",
        "    #Iterating over trees for every depth\n",
        "    for tree in trees:\n",
        "      final_pred = []\n",
        "      #Tuning the decision stumps for trees\n",
        "      predicted_data = decision_stumps(tree,depth,train_data,x_test)\n",
        "      #Finding the majority vote by iterating over predicted values from test data from all decision trees\n",
        "      for i in range(0,x_test.shape[0]):\n",
        "        list_values = []\n",
        "        for j in range(0, tree):\n",
        "          list_values.append(predicted_data[j][i])\n",
        "        #Finding the mod for each of the respective predicted test value from all decision tree\n",
        "        list_values.sort()\n",
        "        values = set(list_values)\n",
        "        store_mod = dict.fromkeys(values,0)\n",
        "        key = 0\n",
        "        for key in store_mod.keys():\n",
        "          store_mod[key] = list_values.count(key)\n",
        "        store_mod = dict(sorted(store_mod.items(), key = lambda x : x[1],reverse=True))\n",
        "        #Storing the majority vote\n",
        "        final_pred.append(list(store_mod.keys())[0])\n",
        "      test_accuracy_part.append(find_accuracy(final_pred , y_test.tolist() , y_test.shape[0]))\n",
        "    #finding the accuracy\n",
        "    test_accuracy.append(test_accuracy_part)\n",
        "  print(\"The Test Accuracy is \",test_accuracy)\n",
        "  return test_accuracy"
      ],
      "execution_count": 54,
      "outputs": []
    },
    {
      "cell_type": "code",
      "metadata": {
        "id": "DDqLLpTg6-zb"
      },
      "source": [
        "#Trying to tune the decision stumps by changing trees and depth to analyse the effect on training 80% data\n",
        "def training_3d_data(train_data,x_train):\n",
        "  #storing the train accuracy\n",
        "  train_accuracy = []\n",
        "  #depths and number of trees to try to tune\n",
        "  depths = [4,8,10,15,20,30]\n",
        "  trees = [5,10,50,100]\n",
        "  #Iterate over depths\n",
        "  for depth in depths:\n",
        "    print(depth)\n",
        "    train_accuracy_part = []\n",
        "    #Iterating over trees for every depth\n",
        "    for tree in trees:\n",
        "      final_pred = []\n",
        "      #Tuning the decision stumps for trees\n",
        "      predicted_data = decision_stumps(tree,depth,train_data,x_train)\n",
        "      #Finding the majority vote by iterating over predicted values from train data from all decision trees\n",
        "      for i in range(0,x_train.shape[0]):\n",
        "        list_values = []\n",
        "        for j in range(0, tree):\n",
        "          list_values.append(predicted_data[j][i])\n",
        "        #Finding the mod for each of the respective predicted train value from all decision tree\n",
        "        list_values.sort()\n",
        "        values = set(list_values)\n",
        "        store_mod = dict.fromkeys(values,0)\n",
        "        key = 0\n",
        "        for key in store_mod.keys():\n",
        "          store_mod[key] = list_values.count(key)\n",
        "        store_mod = dict(sorted(store_mod.items(), key = lambda x : x[1],reverse=True))\n",
        "        #Storing the majority vote\n",
        "        final_pred.append(list(store_mod.keys())[0])\n",
        "      train_accuracy_part.append(find_accuracy(final_pred , y_train.tolist() , y_train.shape[0]))\n",
        "    #finding the accuracy\n",
        "    train_accuracy.append(train_accuracy_part)\n",
        "  print(\"the train accuracy is\", train_accuracy)\n",
        "  return train_accuracy  "
      ],
      "execution_count": 55,
      "outputs": []
    },
    {
      "cell_type": "code",
      "metadata": {
        "id": "EuXoBlSJHIpo",
        "outputId": "4a67eff8-6494-475e-f3c4-aa9704d7e6c7",
        "colab": {
          "base_uri": "https://localhost:8080/",
          "height": 730
        }
      },
      "source": [
        "def Q3_d(train_data,x_train,x_test):\n",
        "  #tuning for the training data\n",
        "  train_accuracy = training_3d_data(train_data,x_train)\n",
        "  #tuning for the testing data\n",
        "  test_accuracy = testing_3d_data(train_data,x_test)\n",
        "  depths = [4,8,10,15,20,30]\n",
        "  trees = [5,10,50,100]\n",
        "  #print the values\n",
        "  print(\"Depth, Trees, Train Accuracy, Test Accuracy\")\n",
        "  for i in depths:\n",
        "    for j in trees:\n",
        "      print(i,j,train_accuracy[depths.index(i)][trees.index(j)],test_accuracy[depths.index(i)][trees.index(j)])\n",
        "\n",
        "Q3_d(train_data,x_train,x_test)"
      ],
      "execution_count": 56,
      "outputs": [
        {
          "output_type": "stream",
          "text": [
            "4\n",
            "8\n",
            "10\n",
            "15\n",
            "20\n",
            "30\n",
            "the train accuracy is [[40.07530163438774, 40.42613879460338, 40.286374397444305, 40.11238198465444], [61.054222881428444, 62.86830770986052, 64.585413160672, 64.77081491200548], [75.94055734618786, 78.33081377107162, 80.84657291993497, 80.90361961265296], [95.09683676088879, 97.67534727174191, 99.24983599075844, 99.37533871473802], [97.04783365184404, 98.8419521378248, 99.90016828774351, 99.94865797655382], [97.10488034456203, 98.864770814912, 99.90016828774351, 99.95151031118971]]\n",
            "4\n",
            "8\n",
            "10\n",
            "15\n",
            "20\n",
            "30\n",
            "The Test Accuracy is  [[39.21277809469481, 39.64632059326868, 39.93154592127781, 40.06845407872219], [58.859098687963495, 59.92013690815744, 61.836851112378774, 61.99657729606389], [68.70507701083856, 72.50427837992014, 74.66058185966914, 75.57330290929835], [84.63205932686823, 88.28294352538505, 90.66742726754136, 91.02110667427267], [86.0810039931546, 89.16143753565316, 91.7969195664575, 92.19623502567028], [85.80718767826583, 89.57216200798631, 91.99087278950371, 92.41300627495723]]\n",
            "Depth, Trees, Train Accuracy, Test Accuracy\n",
            "4 5 40.07530163438774 39.21277809469481\n",
            "4 10 40.42613879460338 39.64632059326868\n",
            "4 50 40.286374397444305 39.93154592127781\n",
            "4 100 40.11238198465444 40.06845407872219\n",
            "8 5 61.054222881428444 58.859098687963495\n",
            "8 10 62.86830770986052 59.92013690815744\n",
            "8 50 64.585413160672 61.836851112378774\n",
            "8 100 64.77081491200548 61.99657729606389\n",
            "10 5 75.94055734618786 68.70507701083856\n",
            "10 10 78.33081377107162 72.50427837992014\n",
            "10 50 80.84657291993497 74.66058185966914\n",
            "10 100 80.90361961265296 75.57330290929835\n",
            "15 5 95.09683676088879 84.63205932686823\n",
            "15 10 97.67534727174191 88.28294352538505\n",
            "15 50 99.24983599075844 90.66742726754136\n",
            "15 100 99.37533871473802 91.02110667427267\n",
            "20 5 97.04783365184404 86.0810039931546\n",
            "20 10 98.8419521378248 89.16143753565316\n",
            "20 50 99.90016828774351 91.7969195664575\n",
            "20 100 99.94865797655382 92.19623502567028\n",
            "30 5 97.10488034456203 85.80718767826583\n",
            "30 10 98.864770814912 89.57216200798631\n",
            "30 50 99.90016828774351 91.99087278950371\n",
            "30 100 99.95151031118971 92.41300627495723\n"
          ],
          "name": "stdout"
        }
      ]
    },
    {
      "cell_type": "code",
      "metadata": {
        "id": "FqmSb21s921F"
      },
      "source": [
        ""
      ],
      "execution_count": null,
      "outputs": []
    }
  ]
}