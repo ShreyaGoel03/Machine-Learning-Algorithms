{
  "nbformat": 4,
  "nbformat_minor": 0,
  "metadata": {
    "colab": {
      "name": "Question3_Assignment2.ipynb",
      "provenance": [],
      "collapsed_sections": []
    },
    "kernelspec": {
      "name": "python3",
      "display_name": "Python 3"
    }
  },
  "cells": [
    {
      "cell_type": "code",
      "metadata": {
        "id": "TH7telpz8yNA",
        "outputId": "ebeaaba1-f8e0-42b0-de71-333925cd784b",
        "colab": {
          "base_uri": "https://localhost:8080/",
          "height": 54
        }
      },
      "source": [
        "from google.colab import drive\n",
        "drive.mount('/content/drive/')"
      ],
      "execution_count": 1,
      "outputs": [
        {
          "output_type": "stream",
          "text": [
            "Drive already mounted at /content/drive/; to attempt to forcibly remount, call drive.mount(\"/content/drive/\", force_remount=True).\n"
          ],
          "name": "stdout"
        }
      ]
    },
    {
      "cell_type": "code",
      "metadata": {
        "id": "j4Pek8fi-J2R",
        "outputId": "5e7eb986-a882-4c0d-a59a-e1ada2ad607d",
        "colab": {
          "base_uri": "https://localhost:8080/",
          "height": 72
        }
      },
      "source": [
        "#Library to perform operations\n",
        "import numpy as np\n",
        "import pandas as pd\n",
        "import seaborn as sns\n",
        "import matplotlib.pyplot as plt\n",
        "#Library for Logistic Regression\n",
        "from sklearn.linear_model import LogisticRegression\n",
        "#Library to save the models using Joblib\n",
        "from sklearn.externals import joblib \n",
        "#Library to measure the squared error\n",
        "from sklearn.metrics import mean_squared_error\n",
        "#Library to load the dataset\n",
        "from scipy.io import loadmat\n",
        "#Library to call One vs One\n",
        "from sklearn.multiclass import OneVsOneClassifier\n",
        "from sklearn.svm import LinearSVC\n",
        "#Library to call One vs Rest\n",
        "from sklearn.multiclass import OneVsRestClassifier"
      ],
      "execution_count": 2,
      "outputs": [
        {
          "output_type": "stream",
          "text": [
            "/usr/local/lib/python3.6/dist-packages/sklearn/externals/joblib/__init__.py:15: FutureWarning: sklearn.externals.joblib is deprecated in 0.21 and will be removed in 0.23. Please import this functionality directly from joblib, which can be installed with: pip install joblib. If this warning is raised when loading pickled models, you may need to re-serialize those models with scikit-learn 0.21+.\n",
            "  warnings.warn(msg, category=FutureWarning)\n"
          ],
          "name": "stderr"
        }
      ]
    },
    {
      "cell_type": "code",
      "metadata": {
        "id": "203Eyywb-NZh",
        "outputId": "067d3db5-616e-4887-df7d-22ea0b8503d6",
        "colab": {
          "base_uri": "https://localhost:8080/",
          "height": 161
        }
      },
      "source": [
        "#Loading the Dataset3\n",
        "data_3 = loadmat('/content/dataset_2.mat')\n",
        "print(data_3)"
      ],
      "execution_count": 3,
      "outputs": [
        {
          "output_type": "stream",
          "text": [
            "{'__header__': b'MATLAB 5.0 MAT-file Platform: posix, Created on: Sat Sep 26 16:40:55 2020', '__version__': '1.0', '__globals__': [], 'samples': array([[-1.43675238, -3.9265797 ],\n",
            "       [-2.00349195, -3.54813747],\n",
            "       [-0.73024538, -4.45436567],\n",
            "       ...,\n",
            "       [-3.0936506 ,  3.44629184],\n",
            "       [ 6.43886415,  3.20051189],\n",
            "       [ 5.34614831,  3.80708106]]), 'labels': array([[0, 0, 0, ..., 1, 3, 3]])}\n"
          ],
          "name": "stdout"
        }
      ]
    },
    {
      "cell_type": "code",
      "metadata": {
        "id": "pjJ1fzRg_Y2B",
        "outputId": "0b3c1c75-3898-4f43-9665-2864a959deb5",
        "colab": {
          "base_uri": "https://localhost:8080/",
          "height": 176
        }
      },
      "source": [
        "#Printing the keys of Data\n",
        "print(data_3.keys()) \n",
        "#Printing the samples    \n",
        "print(data_3['samples'])\n",
        "#Printing the length of the Data\n",
        "print(len(data_3))"
      ],
      "execution_count": 4,
      "outputs": [
        {
          "output_type": "stream",
          "text": [
            "dict_keys(['__header__', '__version__', '__globals__', 'samples', 'labels'])\n",
            "[[-1.43675238 -3.9265797 ]\n",
            " [-2.00349195 -3.54813747]\n",
            " [-0.73024538 -4.45436567]\n",
            " ...\n",
            " [-3.0936506   3.44629184]\n",
            " [ 6.43886415  3.20051189]\n",
            " [ 5.34614831  3.80708106]]\n",
            "5\n"
          ],
          "name": "stdout"
        }
      ]
    },
    {
      "cell_type": "code",
      "metadata": {
        "id": "dXuS4qyY_fJp",
        "outputId": "c2cf5667-ad40-47ab-e296-e11bd92ce3c5",
        "colab": {
          "base_uri": "https://localhost:8080/",
          "height": 87
        }
      },
      "source": [
        "#Printing the information related to the data\n",
        "x_1 = data_3['samples']\n",
        "y_1 = data_3['labels']\n",
        "print(\"Samples Data Type\",x_1.dtype)\n",
        "print(\"Label Data Type\",y_1.dtype)\n",
        "print(\"Shape of Samples\", x_1.shape)\n",
        "print(\"Shape of Label\", y_1.shape)"
      ],
      "execution_count": 5,
      "outputs": [
        {
          "output_type": "stream",
          "text": [
            "Samples Data Type float64\n",
            "Label Data Type int64\n",
            "Shape of Samples (10000, 2)\n",
            "Shape of Label (1, 10000)\n"
          ],
          "name": "stdout"
        }
      ]
    },
    {
      "cell_type": "code",
      "metadata": {
        "id": "quOgNKea_hs3",
        "outputId": "5e1321de-a31f-4610-8b14-f502e17c4cb1",
        "colab": {
          "base_uri": "https://localhost:8080/",
          "height": 283
        }
      },
      "source": [
        "#Convert to DataFrame\n",
        "sample_x = x_1[:,0]\n",
        "sample_y = x_1[:,1]\n",
        "label = y_1[0]\n",
        "data_frame = pd.DataFrame(list(zip(sample_x,sample_y,label)), columns=[\"Sample_X\",\"Sample_Y\",\"Label\"])\n",
        "#Shuffle the Dataset\n",
        "data_frame = data_frame.sample(frac = 1).reset_index(drop=True)\n",
        "data_frame.insert(0,'Sample_0',1.0)\n",
        "print(data_frame)\n",
        "print(data_frame.shape)"
      ],
      "execution_count": 6,
      "outputs": [
        {
          "output_type": "stream",
          "text": [
            "      Sample_0  Sample_X  Sample_Y  Label\n",
            "0          1.0 -1.436752 -3.926580      0\n",
            "1          1.0 -2.003492 -3.548137      0\n",
            "2          1.0 -0.730245 -4.454366      0\n",
            "3          1.0 -2.997647 -4.502650      0\n",
            "4          1.0 -3.353432 -4.616474      0\n",
            "...        ...       ...       ...    ...\n",
            "9995       1.0  4.702887  2.357193      2\n",
            "9996       1.0  4.772458  1.608002      2\n",
            "9997       1.0 -3.093651  3.446292      1\n",
            "9998       1.0  6.438864  3.200512      3\n",
            "9999       1.0  5.346148  3.807081      3\n",
            "\n",
            "[10000 rows x 4 columns]\n",
            "(10000, 4)\n"
          ],
          "name": "stdout"
        }
      ]
    },
    {
      "cell_type": "code",
      "metadata": {
        "id": "88kcVdKi_pp9",
        "outputId": "53ec3926-bbad-4a81-a6c1-a62fc79452ac",
        "colab": {
          "base_uri": "https://localhost:8080/",
          "height": 478
        }
      },
      "source": [
        "#Dividing the Dataset into Samples and Labels separately after shuffling\n",
        "data_y = data_frame['Label']\n",
        "print(data_y)\n",
        "data_x = data_frame.drop([\"Label\"],axis=1)\n",
        "print(data_x)"
      ],
      "execution_count": 7,
      "outputs": [
        {
          "output_type": "stream",
          "text": [
            "0       0\n",
            "1       0\n",
            "2       0\n",
            "3       0\n",
            "4       0\n",
            "       ..\n",
            "9995    2\n",
            "9996    2\n",
            "9997    1\n",
            "9998    3\n",
            "9999    3\n",
            "Name: Label, Length: 10000, dtype: int64\n",
            "      Sample_0  Sample_X  Sample_Y\n",
            "0          1.0 -1.436752 -3.926580\n",
            "1          1.0 -2.003492 -3.548137\n",
            "2          1.0 -0.730245 -4.454366\n",
            "3          1.0 -2.997647 -4.502650\n",
            "4          1.0 -3.353432 -4.616474\n",
            "...        ...       ...       ...\n",
            "9995       1.0  4.702887  2.357193\n",
            "9996       1.0  4.772458  1.608002\n",
            "9997       1.0 -3.093651  3.446292\n",
            "9998       1.0  6.438864  3.200512\n",
            "9999       1.0  5.346148  3.807081\n",
            "\n",
            "[10000 rows x 3 columns]\n"
          ],
          "name": "stdout"
        }
      ]
    },
    {
      "cell_type": "code",
      "metadata": {
        "id": "EFKvZZjU_q8c"
      },
      "source": [
        "# joblib.dump(data_frame, 'data_3.pkl')\n",
        "# joblib.dump(data_x, 'data_x.pkl') "
      ],
      "execution_count": 8,
      "outputs": []
    },
    {
      "cell_type": "code",
      "metadata": {
        "id": "lc-FvlDY_w5X",
        "outputId": "9ffbd472-744a-431f-9215-6340fcacf99f",
        "colab": {
          "base_uri": "https://localhost:8080/",
          "height": 34
        }
      },
      "source": [
        "#Printing the unique values of the Label\n",
        "print(data_frame[\"Label\"].unique())"
      ],
      "execution_count": 9,
      "outputs": [
        {
          "output_type": "stream",
          "text": [
            "[0 2 1 3]\n"
          ],
          "name": "stdout"
        }
      ]
    },
    {
      "cell_type": "markdown",
      "metadata": {
        "id": "aIhGrfuV_zM2"
      },
      "source": [
        "### **Question 3a**"
      ]
    },
    {
      "cell_type": "code",
      "metadata": {
        "id": "l2b0ch3e_2Yf",
        "outputId": "152fed9e-d0c7-4650-ecbf-dee577ef657c",
        "colab": {
          "base_uri": "https://localhost:8080/",
          "height": 295
        }
      },
      "source": [
        "def Question3a(data_frame):\n",
        "  palette = sns.color_palette(\"bright\", 4)\n",
        "  #Plotting the scatterplot for each class using seaborn\n",
        "  sns.scatterplot(data=data_frame, x=\"Sample_X\",y=\"Sample_Y\",hue = \"Label\",legend='full',palette=palette)\n",
        "  plt.title(\"Visualising the test sample of classes on Dataset_3\")\n",
        "\n",
        "data_frame = joblib.load('/content/data_3.pkl')\n",
        "Question3a(data_frame)"
      ],
      "execution_count": 10,
      "outputs": [
        {
          "output_type": "display_data",
          "data": {
            "image/png": "[encoded data removed]",
            "text/plain": [
              "<Figure size 432x288 with 1 Axes>"
            ]
          },
          "metadata": {
            "tags": [],
            "needs_background": "light"
          }
        }
      ]
    },
    {
      "cell_type": "markdown",
      "metadata": {
        "id": "hUB2HE7KAeAv"
      },
      "source": [
        "### **Question 3b and 3c**"
      ]
    },
    {
      "cell_type": "code",
      "metadata": {
        "id": "OLU_Z43yPYry"
      },
      "source": [
        "#Function to split the Dataset into K-Folds \n",
        "def k_folds(k):\n",
        "  #List to store the divided index of the training and testing data for K-Folds\n",
        "  train_index = []\n",
        "  test_index = []\n",
        "  total_index=[]\n",
        "  folds = [0]\n",
        "  #Finding the point of Division\n",
        "  div = int(data_x.shape[0]/k)\n",
        "  total_index.extend(range(data_x.shape[0]))\n",
        "  #Storing the points of division of the index\n",
        "  for i in range(1,k):\n",
        "    folds.append(div*i)\n",
        "  folds.append(data_x.shape[0])\n",
        "  #Keeping one fold of index for test and rest of the index for Train\n",
        "  for i in range(len(folds)-1):\n",
        "    test_list = []\n",
        "    train_list = []\n",
        "    test_list.extend(range(folds[i], folds[i+1]))\n",
        "    train_list = list(set(total_index) - set(test_list))\n",
        "    train_index.append(train_list)\n",
        "    test_index.append(test_list)\n",
        "  return train_index,test_index,k"
      ],
      "execution_count": 11,
      "outputs": []
    },
    {
      "cell_type": "code",
      "metadata": {
        "id": "dHWV1cEXAaYU"
      },
      "source": [
        "class LogRegression(object):\n",
        "    def __init__(self,type_o):\n",
        "      super(LogRegression, self).__init__()\n",
        "      #Type to store whether it is ovo or ovr\n",
        "      self.type_o = type_o\n",
        "\n",
        "    #Sigmoid Function\n",
        "    def sigmoid(self,z):\n",
        "      ans = 1/(1 + np.exp(-z))\n",
        "      return ans\n",
        "\n",
        "    #Calling the Hypothesis Function\n",
        "    def hypothesis(self,X,theta):\n",
        "      z =  X.dot(theta)\n",
        "      h_theta = self.sigmoid(z)\n",
        "      return h_theta\n",
        "\n",
        "    #Finding the Coefficients/theta\n",
        "    def find_coefficients(self,X_train,Y_train,learning_rate,iterations,lamb):\n",
        "      theta_coef = np.zeros((X_train.shape[1]), dtype=float)\n",
        "      theta_coef = theta_coef.reshape(X_train.shape[1],1)\n",
        "      for i in range(iterations):\n",
        "        x = np.array(X_train)\n",
        "        #Predicting the Y value\n",
        "        y_pred = self.hypothesis(x,theta_coef)\n",
        "        #Actual Y value\n",
        "        y_actual = np.array(Y_train).reshape(Y_train.shape[0],1)\n",
        "        #Getting error \n",
        "        error = y_pred-y_actual\n",
        "        #Finding the Gradient\n",
        "        gradient = np.transpose(error).dot(x)\n",
        "        for j in range(gradient.shape[1]):\n",
        "          theta_coef[j] = theta_coef[j] - learning_rate * (lamb * theta_coef[j] + gradient[0][j])\n",
        "      return theta_coef\n",
        "\n",
        "    #One vs One\n",
        "    def ovo(self,X_train,Y_train,alpha,iteration,lamb):\n",
        "      #Storing the Values of the Theta\n",
        "      self.theta_o = []\n",
        "      #Since there are 4 labels\n",
        "      models = [0,1,2]\n",
        "      reference = [1,2,3]\n",
        "      #Iterating over the nc2 models created 01,02,03,12,13,23\n",
        "      for model in models:\n",
        "        for ref in reference:\n",
        "          if ref > model:\n",
        "            #Storing the X_train\n",
        "            data_f = X_train\n",
        "            #Storing the instances where the label is whether model or ref\n",
        "            data = data_f.loc[data_f['Label'].isin([model,ref])]\n",
        "            data = data.reset_index(drop=True)\n",
        "            #Making the instance 0 whose class label is model\n",
        "            data.loc[data['Label'] == model, 'Label'] = 0\n",
        "            #Making the instance 1 whose class label is reference\n",
        "            data.loc[data['Label'] == ref, 'Label'] = 1\n",
        "            X_train_fit = data.drop([\"Label\"],axis=1)\n",
        "            Y_train_fit = data['Label']  \n",
        "            #Finding the theta\n",
        "            theta = self.find_coefficients(X_train_fit,Y_train_fit,alpha,iteration,lamb)\n",
        "            self.theta_o.append(theta)\n",
        "\n",
        "    #One vs Rest\n",
        "    def ovr(self,X_train,Y_train,alpha,iteration,lamb):\n",
        "      #Storing the values of thetas\n",
        "      self.thetas = []\n",
        "      #Since there are 4 class labels\n",
        "      models = [0,1,2,3]\n",
        "      #Iterating over n models\n",
        "      for model in models:\n",
        "        models_t = [0,1,2,3]\n",
        "        models_t.remove(model)\n",
        "        #Storing the X_train\n",
        "        data_f = X_train\n",
        "        #Making the instance 0 whose class label is model\n",
        "        data_f.loc[data_f['Label'] == model, 'Label1'] = 1\n",
        "        #Making the instance 0 whose class label is not model\n",
        "        data_f.loc[data_f['Label'] != model, 'Label1'] = 0\n",
        "        X_train_fit = data_f.drop([\"Label\",\"Label1\"],axis = 1)\n",
        "        Y_train_fit = data_f['Label1']  \n",
        "        #Finding the theta\n",
        "        theta = self.find_coefficients(X_train_fit,Y_train_fit,alpha,iteration,lamb)\n",
        "        self.thetas.append(theta)\n",
        "\n",
        "\n",
        "    #fit function\n",
        "    def fit(self,X_train,Y_train,alpha,iteration,lamb):\n",
        "      if self.type_o == 'ovr':\n",
        "        #If type is ovr call ovr function\n",
        "        return self.ovr(X_train,Y_train,alpha,iteration,lamb)\n",
        "      \n",
        "      else:\n",
        "        #If type is ovo call ovo function\n",
        "        return self.ovo(X_train,Y_train,alpha,iteration,lamb)\n",
        "\n",
        "    #predict function\n",
        "    def predict(self,X_test):\n",
        "      #If type is ovr\n",
        "      if(self.type_o == 'ovr'):\n",
        "        data_test = pd.DataFrame()\n",
        "        num = 0\n",
        "        #Predicting the values of the classes using the thetas passing in hypothesis function\n",
        "        for i in range(len(self.thetas)):\n",
        "          predict_y = self.hypothesis(X_test,self.thetas[i])\n",
        "          predict_y = predict_y.loc[:,0]\n",
        "          data_test[num] = predict_y\n",
        "          num += 1\n",
        "        #Getting the ID of the max probability class\n",
        "        data_test = data_test.idxmax(axis = 1)\n",
        "        return data_test\n",
        "      #If type is ovo\n",
        "      else:\n",
        "        data_test = pd.DataFrame()\n",
        "        num = 1\n",
        "        for i in range(len(self.theta_o)):\n",
        "          model = [0,0,0,1,1,2]\n",
        "          ref = [1,2,3,2,3,3]\n",
        "          #Predicting the values of the classes using the thetas passing in hypothesis function\n",
        "          predict_y = self.hypothesis(X_test,self.theta_o[i])\n",
        "          predict_y = predict_y.loc[:,0]\n",
        "          #Assigning the class after getting the probabilities\n",
        "          for k in predict_y.index:\n",
        "            if predict_y[k] <= 0.5:\n",
        "              predict_y[k] = model[i]\n",
        "            else:\n",
        "              predict_y[k] = ref[i]\n",
        "          data_test['Model '+ str(num)] = predict_y\n",
        "          num += 1\n",
        "        #Getting the mode of the class labels coming from the probabilities\n",
        "        data_test = data_test.mode(axis = 1).loc[:,0]\n",
        "        return data_test"
      ],
      "execution_count": 12,
      "outputs": []
    },
    {
      "cell_type": "code",
      "metadata": {
        "id": "WGUk7caZSs56"
      },
      "source": [
        "#accuracy method to find accuracy\n",
        "def accuracy(pred,actual):\n",
        "  pred = np.array(pred).reshape(pred.shape[0],1)\n",
        "  actual = np.array(actual).reshape(actual.shape[0],1)\n",
        "  error = pred-actual\n",
        "  val = (error == 0).sum()\n",
        "\n",
        "  #Calculate the accuracy\n",
        "  accuracy = val/actual.shape[0]\n",
        "  return accuracy*100"
      ],
      "execution_count": 13,
      "outputs": []
    },
    {
      "cell_type": "markdown",
      "metadata": {
        "id": "2KtLtpPLyLW_"
      },
      "source": [
        "### **Question 3b without save models**"
      ]
    },
    {
      "cell_type": "code",
      "metadata": {
        "id": "7JVU04yUXwSa"
      },
      "source": [
        "# def Question3b(data_x,data_frame):\n",
        "#   columns_names = [\"Folds\",\"Training Accuracy\",\"Validation Accuracy\"]\n",
        "#   Q3_b = pd.DataFrame(columns = columns_names)\n",
        "#   columns_names_1 = [\"Folds\",\"Class\",\"Classwise Accuracy\"]\n",
        "#   Q3_b1 = pd.DataFrame(columns = columns_names_1)\n",
        "#   #Splitting the data into 5-Folds\n",
        "#   train_index,test_index,fold = k_folds(5)\n",
        "#   #Storing the models\n",
        "#   Question3b = []\n",
        "#   for i in range(fold):\n",
        "#     #Getting the test data\n",
        "#     data_p = data_frame.loc[test_index[i],:]\n",
        "#     X_train_fit = data_frame.loc[train_index[i],:]\n",
        "#     X_train = data_x.loc[train_index[i],:]\n",
        "#     X_test = data_x.loc[test_index[i],:]\n",
        "#     Y_train = data_frame.iloc[train_index[i],-1]    \n",
        "#     Y_test = data_frame.iloc[test_index[i],-1]\n",
        "#     #Calling the model with OVO\n",
        "#     model = LogRegression('ovo')\n",
        "#     thetas = model.fit(X_train_fit,Y_train,0.0001,1000,0.64)\n",
        "#     Question3b.append(model)\n",
        "#     #Predicting the values over test and train data\n",
        "#     pred_train = model.predict(X_train)\n",
        "#     pred_test = model.predict(X_test)\n",
        "#     classes = [0,1,2,3]\n",
        "#     #Printing the Classwise Accuracy\n",
        "#     for class_m in classes:\n",
        "#       pred = pred_test.loc[data_p['Label'].isin([class_m])]\n",
        "#       actual = Y_test.loc[data_p['Label'].isin([class_m])]\n",
        "#       acc = accuracy(pred,actual)\n",
        "#       Q3_b1 = Q3_b1.append({'Folds':int(i+1),'Class':class_m,'Classwise Accuracy':acc},ignore_index=True)\n",
        "#     #calculating the Accuracy\n",
        "#     acc_train = accuracy(pred_train,Y_train)\n",
        "#     acc_test = accuracy(pred_test,Y_test)\n",
        "#     Q3_b = Q3_b.append({'Folds':int(i+1),'Training Accuracy':acc_train,'Validation Accuracy':acc_test},ignore_index=True)\n",
        "#   print(Q3_b)\n",
        "#   print(Q3_b1)\n",
        "#   joblib.dump(Question3b, 'Question3b.pkl')\n",
        "\n",
        "# data_frame = joblib.load('/content/data_3.pkl')\n",
        "# data_x = joblib.load('/content/data_x.pkl')\n",
        "# Question3b(data_x,data_frame)"
      ],
      "execution_count": 14,
      "outputs": []
    },
    {
      "cell_type": "markdown",
      "metadata": {
        "id": "huENB5d1yP2e"
      },
      "source": [
        "### **Question 3b with save models**"
      ]
    },
    {
      "cell_type": "code",
      "metadata": {
        "id": "alTiImJowhl7",
        "outputId": "89268a2e-3113-4f83-fcb6-1e74e750df1a",
        "colab": {
          "base_uri": "https://localhost:8080/",
          "height": 496
        }
      },
      "source": [
        "def Question3b(data_x,data_frame):\n",
        "  columns_names = [\"Folds\",\"Training Accuracy\",\"Validation Accuracy\"]\n",
        "  Q3_b = pd.DataFrame(columns = columns_names)\n",
        "  columns_names_1 = [\"Folds\",\"Class\",\"Classwise Accuracy\"]\n",
        "  Q3_b1 = pd.DataFrame(columns = columns_names_1)\n",
        "  #Splitting the data into 5-Folds\n",
        "  train_index,test_index,fold = k_folds(5)\n",
        "  #Calling the models\n",
        "  model = joblib.load('/content/Question3b.pkl')\n",
        "\n",
        "  for i in range(fold):\n",
        "    #Getting the Test data\n",
        "    data_p = data_frame.loc[test_index[i],:]\n",
        "    X_train_fit = data_frame.loc[train_index[i],:]\n",
        "    X_train = data_x.loc[train_index[i],:]\n",
        "    X_test = data_x.loc[test_index[i],:]\n",
        "    Y_train = data_frame.iloc[train_index[i],-1]    \n",
        "    Y_test = data_frame.iloc[test_index[i],-1]\n",
        "    #Predicting the values over test and train data\n",
        "    pred_train = model[i].predict(X_train)\n",
        "    pred_test = model[i].predict(X_test)\n",
        "    classes = [0,1,2,3]\n",
        "    #Finding the classwise accuracy\n",
        "    for class_m in classes:\n",
        "      pred = pred_test.loc[data_p['Label'].isin([class_m])]\n",
        "      actual = Y_test.loc[data_p['Label'].isin([class_m])]\n",
        "      acc = accuracy(pred,actual)\n",
        "      Q3_b1 = Q3_b1.append({'Folds':int(i+1),'Class':class_m,'Classwise Accuracy':acc},ignore_index=True)\n",
        "    #Calculating the Accuracy\n",
        "    acc_train = accuracy(pred_train,Y_train)\n",
        "    acc_test = accuracy(pred_test,Y_test)\n",
        "    Q3_b = Q3_b.append({'Folds':int(i+1),'Training Accuracy':acc_train,'Validation Accuracy':acc_test},ignore_index=True)\n",
        "  print(Q3_b)\n",
        "  print(Q3_b1)\n",
        "\n",
        "data_frame = joblib.load('/content/data_3.pkl')\n",
        "data_x = joblib.load('/content/data_x.pkl')\n",
        "#calling Function for Question 3b\n",
        "Question3b(data_x,data_frame)"
      ],
      "execution_count": 15,
      "outputs": [
        {
          "output_type": "stream",
          "text": [
            "   Folds  Training Accuracy  Validation Accuracy  Testing Accuracy\n",
            "0    1.0            92.3375                  NaN             92.40\n",
            "1    2.0            92.5000                  NaN             92.05\n",
            "2    3.0            92.0625                  NaN             93.05\n",
            "3    4.0            92.4125                  NaN             91.75\n",
            "4    5.0            92.4500                  NaN             92.40\n",
            "    Folds  Class  Classwise Accuracy\n",
            "0     1.0    0.0          100.000000\n",
            "1     1.0    1.0          100.000000\n",
            "2     1.0    2.0           83.014862\n",
            "3     1.0    3.0           85.685885\n",
            "4     2.0    0.0          100.000000\n",
            "5     2.0    1.0          100.000000\n",
            "6     2.0    2.0           83.201581\n",
            "7     2.0    3.0           85.461690\n",
            "8     3.0    0.0           99.612403\n",
            "9     3.0    1.0          100.000000\n",
            "10    3.0    2.0           85.176991\n",
            "11    3.0    3.0           86.641221\n",
            "12    4.0    0.0          100.000000\n",
            "13    4.0    1.0          100.000000\n",
            "14    4.0    2.0           85.311871\n",
            "15    4.0    3.0           81.147541\n",
            "16    5.0    0.0          100.000000\n",
            "17    5.0    1.0          100.000000\n",
            "18    5.0    2.0           83.797909\n",
            "19    5.0    3.0           87.605042\n"
          ],
          "name": "stdout"
        }
      ]
    },
    {
      "cell_type": "markdown",
      "metadata": {
        "id": "jwiKOTfVyUpd"
      },
      "source": [
        "### **Question 3c without save models**"
      ]
    },
    {
      "cell_type": "code",
      "metadata": {
        "id": "lCScIgHbJIZj"
      },
      "source": [
        "# def Question3c(data_x,data_frame):\n",
        "#   columns_names = [\"Folds\",\"Training Accuracy\",\"Validation Accuracy\"]\n",
        "#   Q3_c = pd.DataFrame(columns = columns_names)\n",
        "#   columns_names_1 = [\"Folds\",\"Class\",\"Classwise Accuracy\"]\n",
        "#   Q3_c1 = pd.DataFrame(columns = columns_names_1)\n",
        "#   #Splitting the data into 5-Folds\n",
        "#   train_index,test_index,fold = k_folds(5)\n",
        "#   #Storing the models\n",
        "#   Question3c = []\n",
        "#   for i in range(fold):\n",
        "#     #Getting the test data\n",
        "#     data_p = data_frame.loc[test_index[i],:]\n",
        "#     X_train_fit = data_frame.loc[train_index[i],:]\n",
        "#     X_train = data_x.loc[train_index[i],:]\n",
        "#     X_test = data_x.loc[test_index[i],:]\n",
        "#     Y_train = data_frame.iloc[train_index[i],-1]    \n",
        "#     Y_test = data_frame.iloc[test_index[i],-1]\n",
        "#     #Calling the Logistic Regression with OVR\n",
        "#     model = LogRegression('ovr')\n",
        "#     thetas = model.fit(X_train_fit,Y_train,0.0001,1000,0.64)\n",
        "#     Question3c.append(model)\n",
        "#     #Predicting the values on the test and train data\n",
        "#     pred_train = model.predict(X_train)\n",
        "#     pred_test = model.predict(X_test)\n",
        "#     #printing the classwise accuracy\n",
        "#     classes = [0,1,2,3]\n",
        "#     for class_m in classes:\n",
        "#       pred = pred_test.loc[data_p['Label'].isin([class_m])]\n",
        "#       actual = Y_test.loc[data_p['Label'].isin([class_m])]\n",
        "#       acc = accuracy(pred,actual)\n",
        "#       Q3_c1 = Q3_c1.append({'Folds':int(i+1),'Class':class_m,'Classwise Accuracy':acc},ignore_index=True)\n",
        "#     #Calculating the accuracy\n",
        "#     acc_train = accuracy(pred_train,Y_train)\n",
        "#     acc_test = accuracy(pred_test,Y_test)\n",
        "#     Q3_c = Q3_c.append({'Folds':int(i+1),'Training Accuracy':acc_train,'Validation Accuracy':acc_test},ignore_index=True)\n",
        "#   print(Q3_c)\n",
        "#   print(Q3_c1)\n",
        "#   joblib.dump(Question3c, 'Question3c.pkl')\n",
        "\n",
        "# data_frame = joblib.load('/content/data_3.pkl')\n",
        "# data_x = joblib.load('/content/data_x.pkl')  \n",
        "# #calling Function for Question3c\n",
        "# Question3c(data_x,data_frame)"
      ],
      "execution_count": 16,
      "outputs": []
    },
    {
      "cell_type": "markdown",
      "metadata": {
        "id": "q-CuiMQM0uLE"
      },
      "source": [
        "### **Question3c with save models**"
      ]
    },
    {
      "cell_type": "code",
      "metadata": {
        "id": "qiQurcsMzdpn",
        "outputId": "bd40733d-eeec-476c-8bbe-7fabdcde9245",
        "colab": {
          "base_uri": "https://localhost:8080/",
          "height": 496
        }
      },
      "source": [
        "def Question3c(data_x,data_frame):\n",
        "  columns_names = [\"Folds\",\"Training Accuracy\",\"Validation Accuracy\"]\n",
        "  Q3_c = pd.DataFrame(columns = columns_names)\n",
        "  columns_names_1 = [\"Folds\",\"Class\",\"Classwise Accuracy\"]\n",
        "  Q3_c1 = pd.DataFrame(columns = columns_names_1)\n",
        "  #Splitting the data into 5-Folds\n",
        "  train_index,test_index,fold = k_folds(5)\n",
        "  model = joblib.load('/content/Question3c.pkl')\n",
        "  for i in range(fold):\n",
        "    #Getting the test data\n",
        "    data_p = data_frame.loc[test_index[i],:]\n",
        "    X_train_fit = data_frame.loc[train_index[i],:]\n",
        "    X_train = data_x.loc[train_index[i],:]\n",
        "    X_test = data_x.loc[test_index[i],:]\n",
        "    Y_train = data_frame.iloc[train_index[i],-1]    \n",
        "    Y_test = data_frame.iloc[test_index[i],-1]\n",
        "    #Predicting the values on the test and train data\n",
        "    pred_train = model[i].predict(X_train)\n",
        "    pred_test = model[i].predict(X_test)\n",
        "    #printing the classwise accuracy\n",
        "    classes = [0,1,2,3]\n",
        "    for class_m in classes:\n",
        "      pred = pred_test.loc[data_p['Label'].isin([class_m])]\n",
        "      actual = Y_test.loc[data_p['Label'].isin([class_m])]\n",
        "      acc = accuracy(pred,actual)\n",
        "      Q3_c1 = Q3_c1.append({'Folds':int(i+1),'Class':class_m,'Classwise Accuracy':acc},ignore_index=True)\n",
        "    #Calculating the accuracy\n",
        "    acc_train = accuracy(pred_train,Y_train)\n",
        "    acc_test = accuracy(pred_test,Y_test)\n",
        "    Q3_c = Q3_c.append({'Folds':int(i+1),'Training Accuracy':acc_train,'Validation Accuracy':acc_test},ignore_index=True)\n",
        "  print(Q3_c)\n",
        "  print(Q3_c1)\n",
        "\n",
        "data_frame = joblib.load('/content/data_3.pkl')\n",
        "data_x = joblib.load('/content/data_x.pkl')  \n",
        "#calling Function for Question3c\n",
        "Question3c(data_x,data_frame)"
      ],
      "execution_count": 17,
      "outputs": [
        {
          "output_type": "stream",
          "text": [
            "   Folds  Training Accuracy  Validation Accuracy\n",
            "0    1.0            91.5750                91.90\n",
            "1    2.0            91.9625                90.90\n",
            "2    3.0            91.5250                92.65\n",
            "3    4.0            91.7000                91.75\n",
            "4    5.0            91.6875                90.75\n",
            "    Folds  Class  Classwise Accuracy\n",
            "0     1.0    0.0          100.000000\n",
            "1     1.0    1.0          100.000000\n",
            "2     1.0    2.0           72.186837\n",
            "3     1.0    3.0           93.836978\n",
            "4     2.0    0.0          100.000000\n",
            "5     2.0    1.0          100.000000\n",
            "6     2.0    2.0           72.134387\n",
            "7     2.0    3.0           91.944990\n",
            "8     3.0    0.0          100.000000\n",
            "9     3.0    1.0          100.000000\n",
            "10    3.0    2.0           75.442478\n",
            "11    3.0    3.0           93.129771\n",
            "12    4.0    0.0          100.000000\n",
            "13    4.0    1.0          100.000000\n",
            "14    4.0    2.0           76.659960\n",
            "15    4.0    3.0           89.959016\n",
            "16    5.0    0.0          100.000000\n",
            "17    5.0    1.0          100.000000\n",
            "18    5.0    2.0           73.344948\n",
            "19    5.0    3.0           93.277311\n"
          ],
          "name": "stdout"
        }
      ]
    },
    {
      "cell_type": "markdown",
      "metadata": {
        "id": "piLLa_LQ0zYn"
      },
      "source": [
        "### **Question3d**"
      ]
    },
    {
      "cell_type": "markdown",
      "metadata": {
        "id": "2T2olEER3mkM"
      },
      "source": [
        "### **Question3d_ovo without save model**"
      ]
    },
    {
      "cell_type": "code",
      "metadata": {
        "id": "qMFEu6VTeHAg",
        "outputId": "3f2f8351-8510-4f73-d155-7527b106387b",
        "colab": {
          "base_uri": "https://localhost:8080/",
          "height": 321
        }
      },
      "source": [
        "# def Question3d_ovo(data_x, data_frame):\n",
        "#   columns_names = [\"Folds\",\"Training Accuracy\",\"Validation Accuracy\"]\n",
        "#   Q3_d = pd.DataFrame(columns = columns_names)\n",
        "#   Question3d_ovo = []\n",
        "#   train_index,test_index,fold = k_folds(5)\n",
        "#   #Iterating for each fold\n",
        "#   for i in range(fold):\n",
        "#     X_train = data_x.loc[train_index[i],:]\n",
        "#     X_test = data_x.loc[test_index[i],:]\n",
        "#     Y_train = data_frame.iloc[train_index[i],-1]    \n",
        "#     Y_test = data_frame.iloc[test_index[i],-1]  \n",
        "#     #Model for one vs one classifier\n",
        "#     model = OneVsOneClassifier(LinearSVC(random_state=0)).fit(X_train, Y_train)\n",
        "#     Question3d_ovo.append(model)\n",
        "#     #Predicting the Values over the test and train data\n",
        "#     test_pred = model.predict(X_test)\n",
        "#     train_pred = model.predict(X_train)\n",
        "#     #Calculating the accuracy\n",
        "#     train_acc = model.score(X_train, Y_train)*100\n",
        "#     test_acc = model.score(X_test, Y_test)*100\n",
        "#     Q3_d = Q3_d.append({'Folds':i+1,'Training Accuracy':train_acc,'Validation Accuracy':test_acc},ignore_index=True)\n",
        "#   print(Q3_d)\n",
        "#   joblib.dump(Question3d_ovo, 'Question3d_ovo.pkl')\n",
        "\n",
        "# data_frame = joblib.load('/content/data_3.pkl')\n",
        "# data_x = joblib.load('/content/data_x.pkl')  \n",
        "# #calling Function for Question3d\n",
        "# Question3d_ovo(data_x,data_frame)"
      ],
      "execution_count": 20,
      "outputs": [
        {
          "output_type": "stream",
          "text": [
            "/usr/local/lib/python3.6/dist-packages/sklearn/svm/_base.py:947: ConvergenceWarning: Liblinear failed to converge, increase the number of iterations.\n",
            "  \"the number of iterations.\", ConvergenceWarning)\n",
            "/usr/local/lib/python3.6/dist-packages/sklearn/svm/_base.py:947: ConvergenceWarning: Liblinear failed to converge, increase the number of iterations.\n",
            "  \"the number of iterations.\", ConvergenceWarning)\n",
            "/usr/local/lib/python3.6/dist-packages/sklearn/svm/_base.py:947: ConvergenceWarning: Liblinear failed to converge, increase the number of iterations.\n",
            "  \"the number of iterations.\", ConvergenceWarning)\n",
            "/usr/local/lib/python3.6/dist-packages/sklearn/svm/_base.py:947: ConvergenceWarning: Liblinear failed to converge, increase the number of iterations.\n",
            "  \"the number of iterations.\", ConvergenceWarning)\n"
          ],
          "name": "stderr"
        },
        {
          "output_type": "stream",
          "text": [
            "   Folds  Training Accuracy  Validation Accuracy\n",
            "0    1.0            92.3750                92.70\n",
            "1    2.0            92.5625                92.15\n",
            "2    3.0            92.2125                93.30\n",
            "3    4.0            92.6000                91.95\n",
            "4    5.0            92.6250                92.55\n"
          ],
          "name": "stdout"
        },
        {
          "output_type": "stream",
          "text": [
            "/usr/local/lib/python3.6/dist-packages/sklearn/svm/_base.py:947: ConvergenceWarning: Liblinear failed to converge, increase the number of iterations.\n",
            "  \"the number of iterations.\", ConvergenceWarning)\n"
          ],
          "name": "stderr"
        }
      ]
    },
    {
      "cell_type": "markdown",
      "metadata": {
        "id": "ykOyH0hd3rhA"
      },
      "source": [
        "### **Question3d_ovo with save model**"
      ]
    },
    {
      "cell_type": "code",
      "metadata": {
        "id": "mgs114c-2KBw",
        "outputId": "3f0caf4a-50f1-4e6f-cf77-4d74dd114604",
        "colab": {
          "base_uri": "https://localhost:8080/",
          "height": 327
        }
      },
      "source": [
        "def Question3d_ovo(data_x, data_frame):\n",
        "  columns_names = [\"Folds\",\"Training Accuracy\",\"Validation Accuracy\"]\n",
        "  Q3_d = pd.DataFrame(columns = columns_names)\n",
        "  train_index,test_index,fold = k_folds(5)\n",
        "  model = joblib.load('/content/Question3d_ovo.pkl')\n",
        "  #Iterating for each fold\n",
        "  for i in range(fold):\n",
        "    X_train = data_x.loc[train_index[i],:]\n",
        "    X_test = data_x.loc[test_index[i],:]\n",
        "    Y_train = data_frame.iloc[train_index[i],-1]    \n",
        "    Y_test = data_frame.iloc[test_index[i],-1]  \n",
        "    #Predicting the Values over the test and train data\n",
        "    test_pred = model[i].predict(X_test)\n",
        "    train_pred = model[i].predict(X_train)\n",
        "    #Calculating the accuracy\n",
        "    train_acc = model[i].score(X_train, Y_train)*100\n",
        "    test_acc = model[i].score(X_test, Y_test)*100\n",
        "    Q3_d = Q3_d.append({'Folds':i+1,'Training Accuracy':train_acc,'Validation Accuracy':test_acc},ignore_index=True)\n",
        "  print(Q3_d)\n",
        "  joblib.dump(Question3d_ovo, 'Question3d_ovo.pkl')\n",
        "\n",
        "data_frame = joblib.load('/content/data_3.pkl')\n",
        "data_x = joblib.load('/content/data_x.pkl')  \n",
        "#calling Function for Question3d\n",
        "Question3d_ovo(data_x,data_frame)"
      ],
      "execution_count": 19,
      "outputs": [
        {
          "output_type": "error",
          "ename": "TypeError",
          "evalue": "ignored",
          "traceback": [
            "\u001b[0;31m---------------------------------------------------------------------------\u001b[0m",
            "\u001b[0;31mTypeError\u001b[0m                                 Traceback (most recent call last)",
            "\u001b[0;32m<ipython-input-19-3e97057edc6d>\u001b[0m in \u001b[0;36m<module>\u001b[0;34m()\u001b[0m\n\u001b[1;32m     23\u001b[0m \u001b[0mdata_x\u001b[0m \u001b[0;34m=\u001b[0m \u001b[0mjoblib\u001b[0m\u001b[0;34m.\u001b[0m\u001b[0mload\u001b[0m\u001b[0;34m(\u001b[0m\u001b[0;34m'/content/data_x.pkl'\u001b[0m\u001b[0;34m)\u001b[0m\u001b[0;34m\u001b[0m\u001b[0;34m\u001b[0m\u001b[0m\n\u001b[1;32m     24\u001b[0m \u001b[0;31m#calling Function for Question3d\u001b[0m\u001b[0;34m\u001b[0m\u001b[0;34m\u001b[0m\u001b[0;34m\u001b[0m\u001b[0m\n\u001b[0;32m---> 25\u001b[0;31m \u001b[0mQuestion3d_ovo\u001b[0m\u001b[0;34m(\u001b[0m\u001b[0mdata_x\u001b[0m\u001b[0;34m,\u001b[0m\u001b[0mdata_frame\u001b[0m\u001b[0;34m)\u001b[0m\u001b[0;34m\u001b[0m\u001b[0;34m\u001b[0m\u001b[0m\n\u001b[0m",
            "\u001b[0;32m<ipython-input-19-3e97057edc6d>\u001b[0m in \u001b[0;36mQuestion3d_ovo\u001b[0;34m(data_x, data_frame)\u001b[0m\n\u001b[1;32m     11\u001b[0m     \u001b[0mY_test\u001b[0m \u001b[0;34m=\u001b[0m \u001b[0mdata_frame\u001b[0m\u001b[0;34m.\u001b[0m\u001b[0miloc\u001b[0m\u001b[0;34m[\u001b[0m\u001b[0mtest_index\u001b[0m\u001b[0;34m[\u001b[0m\u001b[0mi\u001b[0m\u001b[0;34m]\u001b[0m\u001b[0;34m,\u001b[0m\u001b[0;34m-\u001b[0m\u001b[0;36m1\u001b[0m\u001b[0;34m]\u001b[0m\u001b[0;34m\u001b[0m\u001b[0;34m\u001b[0m\u001b[0m\n\u001b[1;32m     12\u001b[0m     \u001b[0;31m#Predicting the Values over the test and train data\u001b[0m\u001b[0;34m\u001b[0m\u001b[0;34m\u001b[0m\u001b[0;34m\u001b[0m\u001b[0m\n\u001b[0;32m---> 13\u001b[0;31m     \u001b[0mtest_pred\u001b[0m \u001b[0;34m=\u001b[0m \u001b[0mmodel\u001b[0m\u001b[0;34m[\u001b[0m\u001b[0mi\u001b[0m\u001b[0;34m]\u001b[0m\u001b[0;34m.\u001b[0m\u001b[0mpredict\u001b[0m\u001b[0;34m(\u001b[0m\u001b[0mX_test\u001b[0m\u001b[0;34m)\u001b[0m\u001b[0;34m\u001b[0m\u001b[0;34m\u001b[0m\u001b[0m\n\u001b[0m\u001b[1;32m     14\u001b[0m     \u001b[0mtrain_pred\u001b[0m \u001b[0;34m=\u001b[0m \u001b[0mmodel\u001b[0m\u001b[0;34m[\u001b[0m\u001b[0mi\u001b[0m\u001b[0;34m]\u001b[0m\u001b[0;34m.\u001b[0m\u001b[0mpredict\u001b[0m\u001b[0;34m(\u001b[0m\u001b[0mX_train\u001b[0m\u001b[0;34m)\u001b[0m\u001b[0;34m\u001b[0m\u001b[0;34m\u001b[0m\u001b[0m\n\u001b[1;32m     15\u001b[0m     \u001b[0;31m#Calculating the accuracy\u001b[0m\u001b[0;34m\u001b[0m\u001b[0;34m\u001b[0m\u001b[0;34m\u001b[0m\u001b[0m\n",
            "\u001b[0;31mTypeError\u001b[0m: 'function' object is not subscriptable"
          ]
        }
      ]
    },
    {
      "cell_type": "markdown",
      "metadata": {
        "id": "_e3xmyN93urw"
      },
      "source": [
        "### **Question3d_ovr without save model**"
      ]
    },
    {
      "cell_type": "code",
      "metadata": {
        "id": "TdU__AR7eLbv"
      },
      "source": [
        "# def Question3d_ovr(data_x,data_frame):\n",
        "#   columns_names = [\"Folds\",\"Training Accuracy\",\"Validation Accuracy\"]\n",
        "#   Q3_d = pd.DataFrame(columns = columns_names)\n",
        "#   Question3d_ovr = []\n",
        "#   train_index,test_index,fold = k_folds(5)\n",
        "#   for i in range(fold):\n",
        "#     X_train = data_x.loc[train_index[i],:]\n",
        "#     X_test = data_x.loc[test_index[i],:]\n",
        "#     Y_train = data_frame.iloc[train_index[i],-1]    \n",
        "#     Y_test = data_frame.iloc[test_index[i],-1]  \n",
        "#     #Calling the ovr logistic regression model\n",
        "#     model = LogisticRegression(multi_class='ovr')\n",
        "#     model.fit(X_train, Y_train)\n",
        "#     Question3d_ovr.append(model)\n",
        "#     #Predicting over the test and train data\n",
        "#     test_pred = model.predict(X_test)\n",
        "#     train_pred = model.predict(X_train)\n",
        "#     #Calculating the accuracy\n",
        "#     train_acc = model.score(X_train, Y_train)*100\n",
        "#     test_acc = model.score(X_test, Y_test)*100\n",
        "#     Q3_d = Q3_d.append({'Folds':i+1,'Training Accuracy':train_acc,'Validation Accuracy':test_acc},ignore_index=True)\n",
        "#   print(Q3_d)\n",
        "#   joblib.dump(Question3d_ovr, 'Question3d_ovr.pkl')\n",
        "\n",
        "# data_frame = joblib.load('/content/data_3.pkl')\n",
        "# data_x = joblib.load('/content/data_x.pkl')  \n",
        "# #calling Function for Question3d\n",
        "# Question3d_ovr(data_x,data_frame)"
      ],
      "execution_count": null,
      "outputs": []
    },
    {
      "cell_type": "markdown",
      "metadata": {
        "id": "QritTMaO3xhQ"
      },
      "source": [
        "### **Question3d_ovr with save model**"
      ]
    },
    {
      "cell_type": "code",
      "metadata": {
        "id": "rPyQpsRe3K5_"
      },
      "source": [
        "def Question3d_ovr(data_x,data_frame):\n",
        "  columns_names = [\"Folds\",\"Training Accuracy\",\"Validation Accuracy\"]\n",
        "  Q3_d = pd.DataFrame(columns = columns_names)\n",
        "  train_index,test_index,fold = k_folds(5)\n",
        "  model = joblib.load('/content/Question3d_ovr.pkl')\n",
        "  for i in range(fold):\n",
        "    X_train = data_x.loc[train_index[i],:]\n",
        "    X_test = data_x.loc[test_index[i],:]\n",
        "    Y_train = data_frame.iloc[train_index[i],-1]    \n",
        "    Y_test = data_frame.iloc[test_index[i],-1]  \n",
        "    #Predicting over the test and train data\n",
        "    test_pred = model[i].predict(X_test)\n",
        "    train_pred = model[i].predict(X_train)\n",
        "    #Calculating the accuracy\n",
        "    train_acc = model[i].score(X_train, Y_train)*100\n",
        "    test_acc = model[i].score(X_test, Y_test)*100\n",
        "    Q3_d = Q3_d.append({'Folds':i+1,'Training Accuracy':train_acc,'Validation Accuracy':test_acc},ignore_index=True)\n",
        "  print(Q3_d)\n",
        "\n",
        "data_frame = joblib.load('/content/data_3.pkl')\n",
        "data_x = joblib.load('/content/data_x.pkl')  \n",
        "#calling Function for Question3d\n",
        "Question3d_ovr(data_x,data_frame)"
      ],
      "execution_count": null,
      "outputs": []
    }
  ]
}