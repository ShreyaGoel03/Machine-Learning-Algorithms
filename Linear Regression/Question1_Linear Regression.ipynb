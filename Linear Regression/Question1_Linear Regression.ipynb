{
  "nbformat": 4,
  "nbformat_minor": 0,
  "metadata": {
    "colab": {
      "name": "Question1_Assignment2.ipynb",
      "provenance": []
    },
    "kernelspec": {
      "name": "python3",
      "display_name": "Python 3"
    }
  },
  "cells": [
    {
      "cell_type": "code",
      "metadata": {
        "id": "lkhuOhg8tuuy",
        "outputId": "41b94fad-1011-4393-8c32-cbbee58b414b",
        "colab": {
          "base_uri": "https://localhost:8080/",
          "height": 54
        }
      },
      "source": [
        "from google.colab import drive\n",
        "drive.mount('/content/drive/')"
      ],
      "execution_count": 1,
      "outputs": [
        {
          "output_type": "stream",
          "text": [
            "Drive already mounted at /content/drive/; to attempt to forcibly remount, call drive.mount(\"/content/drive/\", force_remount=True).\n"
          ],
          "name": "stdout"
        }
      ]
    },
    {
      "cell_type": "markdown",
      "metadata": {
        "id": "kCXw0aiAyjRh"
      },
      "source": [
        "### **Common Part for Question1**"
      ]
    },
    {
      "cell_type": "code",
      "metadata": {
        "id": "JSdnNk2Qt5kG",
        "outputId": "64b1ff03-b56b-431b-fadd-0d44cc99671b",
        "colab": {
          "base_uri": "https://localhost:8080/",
          "height": 72
        }
      },
      "source": [
        "#Library to perform operations\n",
        "import numpy as np\n",
        "import pandas as pd\n",
        "import seaborn as sns\n",
        "import matplotlib.pyplot as plt\n",
        "#Library for Linear Regression\n",
        "from sklearn.linear_model import LinearRegression\n",
        "#Library to save the models using Joblib\n",
        "from sklearn.externals import joblib \n",
        "#Library to measure the squared errror\n",
        "from sklearn.metrics import mean_squared_error"
      ],
      "execution_count": 2,
      "outputs": [
        {
          "output_type": "stream",
          "text": [
            "/usr/local/lib/python3.6/dist-packages/sklearn/externals/joblib/__init__.py:15: FutureWarning: sklearn.externals.joblib is deprecated in 0.21 and will be removed in 0.23. Please import this functionality directly from joblib, which can be installed with: pip install joblib. If this warning is raised when loading pickled models, you may need to re-serialize those models with scikit-learn 0.21+.\n",
            "  warnings.warn(msg, category=FutureWarning)\n"
          ],
          "name": "stderr"
        }
      ]
    },
    {
      "cell_type": "code",
      "metadata": {
        "id": "_7zC7H_Ruf7S",
        "outputId": "72e505df-4e4f-4e3c-d020-fdc49d29d4f5",
        "colab": {
          "base_uri": "https://localhost:8080/",
          "height": 283
        }
      },
      "source": [
        "#Loading the Dataset1\n",
        "data_1 = pd.read_csv('/content/Dataset.data',header = None,delimiter = \" \")\n",
        "#Keeping the Names of the Columns for the Dataset\n",
        "data_1.columns = [\"Gender\",\"1\",\"2\",\"3\",\"4\",\"5\",\"6\",\"7\",\"Target\"]\n",
        "#Printing the Dataset\n",
        "print(data_1)\n",
        "#Printing the shape of the Dataset\n",
        "print(\"Shape of the Dataset \", data_1.shape)"
      ],
      "execution_count": 3,
      "outputs": [
        {
          "output_type": "stream",
          "text": [
            "     Gender      1      2      3       4       5       6       7  Target\n",
            "0         M  0.455  0.365  0.095  0.5140  0.2245  0.1010  0.1500      15\n",
            "1         M  0.350  0.265  0.090  0.2255  0.0995  0.0485  0.0700       7\n",
            "2         F  0.530  0.420  0.135  0.6770  0.2565  0.1415  0.2100       9\n",
            "3         M  0.440  0.365  0.125  0.5160  0.2155  0.1140  0.1550      10\n",
            "4         I  0.330  0.255  0.080  0.2050  0.0895  0.0395  0.0550       7\n",
            "...     ...    ...    ...    ...     ...     ...     ...     ...     ...\n",
            "4172      F  0.565  0.450  0.165  0.8870  0.3700  0.2390  0.2490      11\n",
            "4173      M  0.590  0.440  0.135  0.9660  0.4390  0.2145  0.2605      10\n",
            "4174      M  0.600  0.475  0.205  1.1760  0.5255  0.2875  0.3080       9\n",
            "4175      F  0.625  0.485  0.150  1.0945  0.5310  0.2610  0.2960      10\n",
            "4176      M  0.710  0.555  0.195  1.9485  0.9455  0.3765  0.4950      12\n",
            "\n",
            "[4177 rows x 9 columns]\n",
            "Shape of the Dataset  (4177, 9)\n"
          ],
          "name": "stdout"
        }
      ]
    },
    {
      "cell_type": "code",
      "metadata": {
        "id": "aLgPiGMeu3_b",
        "outputId": "1fa6e2fe-d52b-46d9-e848-fefa3de8ef87",
        "colab": {
          "base_uri": "https://localhost:8080/",
          "height": 283
        }
      },
      "source": [
        "#Shuffling the Dataset\n",
        "data_1 = data_1.sample(frac = 1) \n",
        "print(\"Shuffled Dataset \")\n",
        "#Rearranging the index as normal for the shuffled Dataset\n",
        "data_1 = data_1.reset_index(drop=True)\n",
        "#Printing the Dataset\n",
        "print(data_1)"
      ],
      "execution_count": 4,
      "outputs": [
        {
          "output_type": "stream",
          "text": [
            "Shuffled Dataset \n",
            "     Gender      1      2      3       4       5       6       7  Target\n",
            "0         M  0.495  0.385  0.135  0.7090  0.2110  0.1375  0.2620      12\n",
            "1         F  0.700  0.545  0.130  1.5560  0.6725  0.3740  0.1950      12\n",
            "2         M  0.575  0.470  0.150  1.1415  0.4515  0.2040  0.4000      13\n",
            "3         M  0.500  0.390  0.135  0.6595  0.3145  0.1535  0.1565       6\n",
            "4         M  0.605  0.445  0.140  0.9820  0.4295  0.2085  0.2950      12\n",
            "...     ...    ...    ...    ...     ...     ...     ...     ...     ...\n",
            "4172      I  0.445  0.325  0.100  0.3780  0.1795  0.1000  0.0890       7\n",
            "4173      F  0.580  0.460  0.120  0.9935  0.4625  0.2385  0.2800      11\n",
            "4174      F  0.655  0.455  0.170  1.2895  0.5870  0.3165  0.3415      11\n",
            "4175      F  0.350  0.275  0.065  0.2050  0.0745  0.0465  0.0700      10\n",
            "4176      M  0.615  0.470  0.165  1.1280  0.4465  0.2195  0.3400      10\n",
            "\n",
            "[4177 rows x 9 columns]\n"
          ],
          "name": "stdout"
        }
      ]
    },
    {
      "cell_type": "code",
      "metadata": {
        "id": "ozb1fwr2vHrk",
        "outputId": "66fc6cc7-d469-466e-cb86-a5b36b3ca0e2",
        "colab": {
          "base_uri": "https://localhost:8080/",
          "height": 443
        }
      },
      "source": [
        "#Printing the Information about the Dataset\n",
        "print(data_1.describe())\n",
        "#Printing the DataTypes of each column of the Dataset\n",
        "print(\"The Datatypes \")\n",
        "print(data_1.dtypes)\n",
        "#Printing the unique values of the Target\n",
        "print(data_1['Target'].unique())"
      ],
      "execution_count": 5,
      "outputs": [
        {
          "output_type": "stream",
          "text": [
            "                 1            2  ...            7       Target\n",
            "count  4177.000000  4177.000000  ...  4177.000000  4177.000000\n",
            "mean      0.523992     0.407881  ...     0.238831     9.933684\n",
            "std       0.120093     0.099240  ...     0.139203     3.224169\n",
            "min       0.075000     0.055000  ...     0.001500     1.000000\n",
            "25%       0.450000     0.350000  ...     0.130000     8.000000\n",
            "50%       0.545000     0.425000  ...     0.234000     9.000000\n",
            "75%       0.615000     0.480000  ...     0.329000    11.000000\n",
            "max       0.815000     0.650000  ...     1.005000    29.000000\n",
            "\n",
            "[8 rows x 8 columns]\n",
            "The Datatypes \n",
            "Gender     object\n",
            "1         float64\n",
            "2         float64\n",
            "3         float64\n",
            "4         float64\n",
            "5         float64\n",
            "6         float64\n",
            "7         float64\n",
            "Target      int64\n",
            "dtype: object\n",
            "[12 13  6  9  7  8 14 10 18 11 19 17 15  5 20  1 16  4  3 24 21 27 29 22\n",
            " 26 23  2 25]\n"
          ],
          "name": "stdout"
        }
      ]
    },
    {
      "cell_type": "code",
      "metadata": {
        "id": "Br5ZWmw6v2_G",
        "outputId": "dcba3fe6-225f-4b21-8af8-2a1aa5889592",
        "colab": {
          "base_uri": "https://localhost:8080/",
          "height": 265
        }
      },
      "source": [
        "#Finding the Null columns\n",
        "null_columns = data_1.columns[data_1.isnull().any()]\n",
        "print(null_columns)\n",
        "#Printing the Null Columns\n",
        "print(data_1.isnull().sum()) \n",
        "print(data_1[data_1.isnull().any(axis=1)][null_columns])"
      ],
      "execution_count": 6,
      "outputs": [
        {
          "output_type": "stream",
          "text": [
            "Index([], dtype='object')\n",
            "Gender    0\n",
            "1         0\n",
            "2         0\n",
            "3         0\n",
            "4         0\n",
            "5         0\n",
            "6         0\n",
            "7         0\n",
            "Target    0\n",
            "dtype: int64\n",
            "Empty DataFrame\n",
            "Columns: []\n",
            "Index: []\n"
          ],
          "name": "stdout"
        }
      ]
    },
    {
      "cell_type": "code",
      "metadata": {
        "id": "BUbreig0x7P2",
        "outputId": "ef9a733d-8f53-4c80-91a2-ccff4a2b77f5",
        "colab": {
          "base_uri": "https://localhost:8080/",
          "height": 321
        }
      },
      "source": [
        "#Printing the unique values of the Column Gender\n",
        "print(data_1['Gender'].unique())\n",
        "\n",
        "#Encoding the Gender Column with M as 0, F as 1, and I as 2 \n",
        "data_1.Gender[data_1.Gender == 'M'] = 0\n",
        "data_1.Gender[data_1.Gender == 'F'] = 1\n",
        "data_1.Gender[data_1.Gender == 'I'] = 2"
      ],
      "execution_count": 7,
      "outputs": [
        {
          "output_type": "stream",
          "text": [
            "['M' 'F' 'I']\n"
          ],
          "name": "stdout"
        },
        {
          "output_type": "stream",
          "text": [
            "/usr/local/lib/python3.6/dist-packages/ipykernel_launcher.py:5: SettingWithCopyWarning: \n",
            "A value is trying to be set on a copy of a slice from a DataFrame\n",
            "\n",
            "See the caveats in the documentation: https://pandas.pydata.org/pandas-docs/stable/user_guide/indexing.html#returning-a-view-versus-a-copy\n",
            "  \"\"\"\n",
            "/usr/local/lib/python3.6/dist-packages/ipykernel_launcher.py:6: SettingWithCopyWarning: \n",
            "A value is trying to be set on a copy of a slice from a DataFrame\n",
            "\n",
            "See the caveats in the documentation: https://pandas.pydata.org/pandas-docs/stable/user_guide/indexing.html#returning-a-view-versus-a-copy\n",
            "  \n",
            "/usr/local/lib/python3.6/dist-packages/ipykernel_launcher.py:7: SettingWithCopyWarning: \n",
            "A value is trying to be set on a copy of a slice from a DataFrame\n",
            "\n",
            "See the caveats in the documentation: https://pandas.pydata.org/pandas-docs/stable/user_guide/indexing.html#returning-a-view-versus-a-copy\n",
            "  import sys\n"
          ],
          "name": "stderr"
        }
      ]
    },
    {
      "cell_type": "code",
      "metadata": {
        "id": "ia8V0WpayUUb",
        "outputId": "f38b3256-bb80-4971-f5c8-b2de956a8078",
        "colab": {
          "base_uri": "https://localhost:8080/",
          "height": 478
        }
      },
      "source": [
        "#Storing the Values of the Dataset other than the Target Value\n",
        "data_x = data_1.loc[ : , data_1.columns != 'Target']\n",
        "print(data_x)\n",
        "\n",
        "#Storing the Target Value in the Data_y\n",
        "data_y = data_1.iloc[:,-1]\n",
        "data_y.columns = [\"Target\"]\n",
        "print(data_y)"
      ],
      "execution_count": 8,
      "outputs": [
        {
          "output_type": "stream",
          "text": [
            "     Gender      1      2      3       4       5       6       7\n",
            "0         0  0.495  0.385  0.135  0.7090  0.2110  0.1375  0.2620\n",
            "1         1  0.700  0.545  0.130  1.5560  0.6725  0.3740  0.1950\n",
            "2         0  0.575  0.470  0.150  1.1415  0.4515  0.2040  0.4000\n",
            "3         0  0.500  0.390  0.135  0.6595  0.3145  0.1535  0.1565\n",
            "4         0  0.605  0.445  0.140  0.9820  0.4295  0.2085  0.2950\n",
            "...     ...    ...    ...    ...     ...     ...     ...     ...\n",
            "4172      2  0.445  0.325  0.100  0.3780  0.1795  0.1000  0.0890\n",
            "4173      1  0.580  0.460  0.120  0.9935  0.4625  0.2385  0.2800\n",
            "4174      1  0.655  0.455  0.170  1.2895  0.5870  0.3165  0.3415\n",
            "4175      1  0.350  0.275  0.065  0.2050  0.0745  0.0465  0.0700\n",
            "4176      0  0.615  0.470  0.165  1.1280  0.4465  0.2195  0.3400\n",
            "\n",
            "[4177 rows x 8 columns]\n",
            "0       12\n",
            "1       12\n",
            "2       13\n",
            "3        6\n",
            "4       12\n",
            "        ..\n",
            "4172     7\n",
            "4173    11\n",
            "4174    11\n",
            "4175    10\n",
            "4176    10\n",
            "Name: Target, Length: 4177, dtype: int64\n"
          ],
          "name": "stdout"
        }
      ]
    },
    {
      "cell_type": "code",
      "metadata": {
        "id": "mgEtm5y79JNc"
      },
      "source": [
        "# joblib.dump(data_1, 'data_1.pkl')\n",
        "# joblib.dump(data_x, 'data_x.pkl') "
      ],
      "execution_count": 9,
      "outputs": []
    },
    {
      "cell_type": "code",
      "metadata": {
        "id": "3XHCFAMJzmab"
      },
      "source": [
        "#Function to split the Dataset into K-Folds \n",
        "def k_folds(k):\n",
        "  #List to store the divided index of the training and testing data for K-Folds\n",
        "  train_index = []\n",
        "  test_index = []\n",
        "  total_index=[]\n",
        "  folds = [0]\n",
        "  #Finding the point of Division\n",
        "  div = int(data_x.shape[0]/k)\n",
        "  total_index.extend(range(data_x.shape[0]))\n",
        "  #Storing the points of division of the index\n",
        "  for i in range(1,k):\n",
        "    folds.append(div*i)\n",
        "  folds.append(data_x.shape[0])\n",
        "  #Keeping one fold of index for test and rest of the index for Train\n",
        "  for i in range(len(folds)-1):\n",
        "    test_list = []\n",
        "    train_list = []\n",
        "    test_list.extend(range(folds[i], folds[i+1]))\n",
        "    train_list = list(set(total_index) - set(test_list))\n",
        "    train_index.append(train_list)\n",
        "    test_index.append(test_list)\n",
        "  return train_index,test_index,k"
      ],
      "execution_count": 10,
      "outputs": []
    },
    {
      "cell_type": "markdown",
      "metadata": {
        "id": "8ns0o1IkK29v"
      },
      "source": [
        "### **Question 1a**"
      ]
    },
    {
      "cell_type": "code",
      "metadata": {
        "id": "dTvR8k1lIOzL"
      },
      "source": [
        "#Making the Class Regression\n",
        "class Regression():\n",
        "    def __init__(self):\n",
        "      super(Regression, self).__init__()\n",
        "\n",
        "    def fit(self,train_X,train_Y):\n",
        "      model = LinearRegression()\n",
        "      #Calling the fit from Linear Regression\n",
        "      model = model.fit(train_X,train_Y)\n",
        "      #Returning the coefficients and the intercept\n",
        "      self.coeff = model.coef_\n",
        "      self.intercept = model.intercept_\n",
        "      return self.coeff,self.intercept\n",
        "\n",
        "    #predict function from scratch\n",
        "    def predict(self,X_test):\n",
        "      predict_y = []\n",
        "      #Calculating the predicted values\n",
        "      for i in range(X_test.shape[0]):\n",
        "        total_y = 0\n",
        "        total_y = (X_test.iloc[i]*self.coeff).sum()\n",
        "        total_y += self.intercept\n",
        "        predict_y.append(total_y)\n",
        "      #return the predicted values\n",
        "      predict_y = np.array(predict_y)\n",
        "      return predict_y"
      ],
      "execution_count": 11,
      "outputs": []
    },
    {
      "cell_type": "markdown",
      "metadata": {
        "id": "oc-FzzcRLFkI"
      },
      "source": [
        "### **Question 1b without model save**"
      ]
    },
    {
      "cell_type": "code",
      "metadata": {
        "id": "iZYPWbAqLE6W"
      },
      "source": [
        "#Function to find the MSE \n",
        "def find_MSE(y_actual,y_pred):\n",
        "  sq_val=0\n",
        "  sq_val = ((y_actual-y_pred)**2).sum()\n",
        "  mse = sq_val/len(y_actual)\n",
        "  return mse"
      ],
      "execution_count": 12,
      "outputs": []
    },
    {
      "cell_type": "code",
      "metadata": {
        "id": "tqFuvGehLcqg"
      },
      "source": [
        "# def Question1b(data_x,data_1):\n",
        "#   #Columns for printing the values for each fold\n",
        "#   columns_names = [\"Folds\",\"Training MSE\",\"Validation MSE\"]\n",
        "#   Q1_b = pd.DataFrame(columns = columns_names)\n",
        "#   sum_train=0\n",
        "#   sum_test=0\n",
        "#   mean_train=0\n",
        "#   mean_test=0\n",
        "#   Question1b = []\n",
        "#   #Splitting the data into 5-Folds\n",
        "#   train_index,test_index,fold = k_folds(5)\n",
        "#   #Loop for 5 folds\n",
        "#   for i in range(fold):\n",
        "#     #Dividing the data into train and test accordingly\n",
        "#     X_train = data_x.loc[train_index[i],:]\n",
        "#     X_test = data_x.loc[test_index[i],:]\n",
        "#     Y_train = data_1.iloc[train_index[i],-1]    \n",
        "#     Y_test = data_1.iloc[test_index[i],-1]\n",
        "#     #Calling the Linear Regression Model\n",
        "#     model = Regression()\n",
        "#     #Storing the coefficients and intercept from the Linear Regression\n",
        "#     val,inter = model.fit(X_train,Y_train)\n",
        "#     #Saving the models in the list  \n",
        "#     Question1b.append(model)\n",
        "#     #Predicting the values for both train and test data\n",
        "#     pred_train = model.predict(X_train)\n",
        "#     pred_test = model.predict(X_test)\n",
        "#     #Finding the MSE train and test\n",
        "#     mse_train = find_MSE(list(Y_train),pred_train)\n",
        "#     mse_test = find_MSE(list(Y_test),pred_test)\n",
        "#     Q1_b = Q1_b.append({'Folds':i+1,'Training MSE':mse_train,'Validation MSE':mse_test},ignore_index=True)\n",
        "#   #Finding the mean of training and validation MSE  \n",
        "#   for i in Q1_b.index:\n",
        "#     sum_train += float(Q1_b['Training MSE'][i])\n",
        "#     sum_test += float(Q1_b['Validation MSE'][i])\n",
        "#   mean_train = sum_train/fold\n",
        "#   mean_test = sum_test/fold\n",
        "#   #Printing the values\n",
        "#   print(Q1_b)\n",
        "#   print(\"\\nMean Training MSE\",mean_train)\n",
        "#   print(\"Mean Validation MSE\",mean_test)\n",
        "#   #Saving the models\n",
        "#   joblib.dump(Question1b, 'Question1b.pkl') \n",
        "# #Calling the Function for Question1b\n",
        "# Question1b(data_x,data_1)"
      ],
      "execution_count": 13,
      "outputs": []
    },
    {
      "cell_type": "markdown",
      "metadata": {
        "id": "-ldx23r_yxLy"
      },
      "source": [
        "### **Question 1b with model save Question1b.pkl**"
      ]
    },
    {
      "cell_type": "code",
      "metadata": {
        "id": "6rIpMWGdxFy5",
        "outputId": "a9d50363-8a8d-4d48-ae1e-c5a7519bad71",
        "colab": {
          "base_uri": "https://localhost:8080/",
          "height": 176
        }
      },
      "source": [
        "def Question1b(data_x,data_1):\n",
        "  #Columns for printing the values for each fold\n",
        "  columns_names = [\"Folds\",\"Training MSE\",\"Validation MSE\"]\n",
        "  Q1_b = pd.DataFrame(columns = columns_names)\n",
        "  sum_train=0\n",
        "  sum_test=0\n",
        "  mean_train=0\n",
        "  mean_test=0\n",
        "  #Splitting the data into 5-Folds\n",
        "  train_index,test_index,fold = k_folds(5)\n",
        "  #Loading the model\n",
        "  model = joblib.load('/content/Question1b.pkl')\n",
        "  #Loop for 5 folds\n",
        "  for i in range(fold):\n",
        "    X_train = data_x.loc[train_index[i],:]\n",
        "    X_test = data_x.loc[test_index[i],:]\n",
        "    Y_train = data_1.iloc[train_index[i],-1]    \n",
        "    Y_test = data_1.iloc[test_index[i],-1]\n",
        "    #Predicting the values for both train and test data\n",
        "    pred_train = model[i].predict(X_train)\n",
        "    pred_test = model[i].predict(X_test)\n",
        "    #Finding the MSE train and test\n",
        "    mse_train = find_MSE(list(Y_train),pred_train)\n",
        "    mse_test = find_MSE(list(Y_test),pred_test)\n",
        "    Q1_b = Q1_b.append({'Folds':i+1,'Training MSE':mse_train,'Validation MSE':mse_test},ignore_index=True)\n",
        "  #Finding the mean of training and validation MSE  \n",
        "  for i in Q1_b.index:\n",
        "    sum_train += float(Q1_b['Training MSE'][i])\n",
        "    sum_test += float(Q1_b['Validation MSE'][i])\n",
        "  mean_train = sum_train/fold\n",
        "  mean_test = sum_test/fold\n",
        "  #Printing the values\n",
        "  print(Q1_b)\n",
        "  print(\"\\nMean Training MSE\",mean_train)\n",
        "  print(\"Mean Validation MSE\",mean_test)\n",
        "\n",
        "data_1 = joblib.load('/content/data_1.pkl')\n",
        "data_x = joblib.load('/content/data_x.pkl')\n",
        "\n",
        "#Calling the Function for Question1b\n",
        "Question1b(data_x,data_1)"
      ],
      "execution_count": 14,
      "outputs": [
        {
          "output_type": "stream",
          "text": [
            "   Folds  Training MSE  Validation MSE\n",
            "0    1.0      4.895320        4.569844\n",
            "1    2.0      4.690985        5.733193\n",
            "2    3.0      4.844798        4.788677\n",
            "3    4.0      4.871419        4.675476\n",
            "4    5.0      4.794609        4.998721\n",
            "\n",
            "Mean Training MSE 4.819426122937853\n",
            "Mean Validation MSE 4.953182160788157\n"
          ],
          "name": "stdout"
        }
      ]
    },
    {
      "cell_type": "markdown",
      "metadata": {
        "id": "1XMBMufRTmw8"
      },
      "source": [
        "### **Question 1c without save model**"
      ]
    },
    {
      "cell_type": "code",
      "metadata": {
        "id": "IfkgO4ZSTu3q"
      },
      "source": [
        "def predict_ne(X_test,index,coeff,intercept):\n",
        "    predict_y = []\n",
        "    for i in index:\n",
        "      total_y = 0\n",
        "      k=0\n",
        "      total_y = (X_test.loc[i,:]*coeff).sum()\n",
        "      total_y += intercept\n",
        "      predict_y.append(total_y)\n",
        "    predict_y = np.array(predict_y)\n",
        "    return predict_y"
      ],
      "execution_count": 15,
      "outputs": []
    },
    {
      "cell_type": "code",
      "metadata": {
        "id": "MToDa0eJT3iI"
      },
      "source": [
        "# def Question1c(data_x,data_1):\n",
        "#   #Columns for printing the values for each fold\n",
        "#   columns_names = [\"Folds\",\"Training MSE\",\"Validation MSE\"]\n",
        "#   Q1_c = pd.DataFrame(columns = columns_names)\n",
        "#   sum_train=0\n",
        "#   sum_test=0\n",
        "#   mean_train=0\n",
        "#   mean_test=0\n",
        "#   coeff = []\n",
        "#   intercept = []\n",
        "#   #Splitting the data into 5-Folds\n",
        "#   train_index,test_index,fold = k_folds(5)\n",
        "#   #Loop for 5 folds\n",
        "#   for i in range(fold):\n",
        "#     #Dividing the data into train and test accordingly\n",
        "#     X_train = data_x.loc[train_index[i],:]\n",
        "#     X_test = data_x.loc[test_index[i],:]\n",
        "#     Y_train = data_1.iloc[train_index[i],-1]    \n",
        "#     Y_test = data_1.iloc[test_index[i],-1]\n",
        "#     #Adding the first column of value 1\n",
        "#     first_col = np.ones((X_train.shape[0],1))\n",
        "#     x = np.append(first_col,X_train,axis=1)\n",
        "#     #Making the X matrix\n",
        "#     x = np.matrix(x,dtype='float')\n",
        "#     #Transposing the Matrix\n",
        "#     x_transpose = np.transpose(x)\n",
        "#     #Getting the value of Xtranspose and X\n",
        "#     x_val = x_transpose.dot(x)\n",
        "#     #Inversing the Xtranspose and X\n",
        "#     x_inverse = np.linalg.inv(x_val)\n",
        "#     #Convertng Y_train to matrix\n",
        "#     y = Y_train.to_numpy()\n",
        "#     y = y.reshape((Y_train.shape[0],1))\n",
        "#     #Getting the dot product of X transpose and Y\n",
        "#     y_val = x_transpose.dot(y)\n",
        "#     #Calculating the value of theta by multiplying the X inverse and y_val\n",
        "#     theta = x_inverse.dot(y_val)\n",
        "#     #Getting the intercept\n",
        "#     inter = theta[0].tolist()[0]\n",
        "#     #Getting the value of coefficients\n",
        "#     val = (theta[1:9].flatten())\n",
        "#     val = val.tolist()\n",
        "#     val = val[0]\n",
        "#     coeff.append(val)\n",
        "#     intercept.append(inter)\n",
        "#     #Predicting the values for X_train and X_test\n",
        "#     pred_train = predict_ne(X_train,train_index[i],val,inter).flatten()\n",
        "#     pred_test = predict_ne(X_test,test_index[i],val,inter).flatten()\n",
        "#     #Finding the training and validation MSE  \n",
        "#     mse_train = find_MSE(list(Y_train),pred_train)\n",
        "#     mse_test = find_MSE(list(Y_test),pred_test)\n",
        "#     Q1_c = Q1_c.append({'Folds':int(i+1),'Training MSE':mse_train,'Validation MSE':mse_test},ignore_index=True)\n",
        "#   #Finding the mean of training and validation MSE  \n",
        "#   for i in Q1_c.index:\n",
        "#     sum_train += float(Q1_c['Training MSE'][i])\n",
        "#     sum_test += float(Q1_c['Validation MSE'][i])\n",
        "#   mean_train = sum_train/fold\n",
        "#   mean_test = sum_test/fold\n",
        "#   #Printing the values\n",
        "#   print(Q1_c)\n",
        "#   print(\"\\nMean Training MSE\",mean_train)\n",
        "#   print(\"Mean Validation MSE\",mean_test)\n",
        "#   joblib.dump(coeff,'Coefficient.pkl')\n",
        "#   joblib.dump(intercept,'Intercept.pkl')\n",
        "\n",
        "# data_1 = joblib.load('/content/data_1.pkl')\n",
        "# data_x = joblib.load('/content/data_x.pkl')\n",
        "# #Calling the Function\n",
        "# Question1c(data_x,data_1)"
      ],
      "execution_count": 16,
      "outputs": []
    },
    {
      "cell_type": "code",
      "metadata": {
        "id": "-Eu-4Rgo_TSC",
        "outputId": "81bb2c23-f3c0-4469-a8a8-39cbe4c31397",
        "colab": {
          "base_uri": "https://localhost:8080/",
          "height": 176
        }
      },
      "source": [
        "def Question1c(data_x,data_1):\n",
        "  #Columns for printing the values for each fold\n",
        "  columns_names = [\"Folds\",\"Training MSE\",\"Validation MSE\"]\n",
        "  Q1_c = pd.DataFrame(columns = columns_names)\n",
        "  sum_train=0\n",
        "  sum_test=0\n",
        "  mean_train=0\n",
        "  mean_test=0\n",
        "  val = joblib.load('/content/Coefficient.pkl')\n",
        "  inter = joblib.load('/content/Intercept.pkl')\n",
        "  #Splitting the data into 5-Folds\n",
        "  train_index,test_index,fold = k_folds(5)\n",
        "  #Loop for 5 folds\n",
        "  for i in range(fold):\n",
        "    #Dividing the data into train and test accordingly\n",
        "    X_train = data_x.loc[train_index[i],:]\n",
        "    X_test = data_x.loc[test_index[i],:]\n",
        "    Y_train = data_1.iloc[train_index[i],-1]    \n",
        "    Y_test = data_1.iloc[test_index[i],-1]\n",
        "    #Predicting the values for X_train and X_test\n",
        "    pred_train = predict_ne(X_train,train_index[i],val[i],inter[i]).flatten()\n",
        "    pred_test = predict_ne(X_test,test_index[i],val[i],inter[i]).flatten()\n",
        "    #Finding the training and validation MSE  \n",
        "    mse_train = find_MSE(list(Y_train),pred_train)\n",
        "    mse_test = find_MSE(list(Y_test),pred_test)\n",
        "    Q1_c = Q1_c.append({'Folds':int(i+1),'Training MSE':mse_train,'Validation MSE':mse_test},ignore_index=True)\n",
        "  #Finding the mean of training and validation MSE  \n",
        "  for i in Q1_c.index:\n",
        "    sum_train += float(Q1_c['Training MSE'][i])\n",
        "    sum_test += float(Q1_c['Validation MSE'][i])\n",
        "  mean_train = sum_train/fold\n",
        "  mean_test = sum_test/fold\n",
        "  #Printing the values\n",
        "  print(Q1_c)\n",
        "  print(\"\\nMean Training MSE\",mean_train)\n",
        "  print(\"Mean Validation MSE\",mean_test)\n",
        "\n",
        "data_1 = joblib.load('/content/data_1.pkl')\n",
        "data_x = joblib.load('/content/data_x.pkl')\n",
        "#Calling the Function\n",
        "Question1c(data_x,data_1)"
      ],
      "execution_count": 17,
      "outputs": [
        {
          "output_type": "stream",
          "text": [
            "   Folds  Training MSE  Validation MSE\n",
            "0    1.0      4.895320        4.569844\n",
            "1    2.0      4.690985        5.733193\n",
            "2    3.0      4.844798        4.788677\n",
            "3    4.0      4.871419        4.675476\n",
            "4    5.0      4.794609        4.998721\n",
            "\n",
            "Mean Training MSE 4.819426122937853\n",
            "Mean Validation MSE 4.953182160788247\n"
          ],
          "name": "stdout"
        }
      ]
    },
    {
      "cell_type": "markdown",
      "metadata": {
        "id": "9DQkpTGaZN7x"
      },
      "source": [
        "### **Question 1d without save model**"
      ]
    },
    {
      "cell_type": "code",
      "metadata": {
        "id": "7BZHSvJDZSmC"
      },
      "source": [
        "# def Question1d(data_x,data_1):\n",
        "#   #Columns for printing the values for each fold\n",
        "#   columns_names = [\"Folds\",\"Training MSE\",\"Validation MSE\"]\n",
        "#   Q1_d = pd.DataFrame(columns = columns_names)\n",
        "#   sum_train=0\n",
        "#   sum_test=0\n",
        "#   mean_train=0\n",
        "#   mean_test=0\n",
        "#   Question1d = []\n",
        "#   #Splitting the data into 5-Folds\n",
        "#   train_index,test_index,fold = k_folds(5)\n",
        "#   #Loop for 5 folds\n",
        "#   for i in range(fold):\n",
        "#     X_train = data_x.loc[train_index[i],:]\n",
        "#     X_test = data_x.loc[test_index[i],:]\n",
        "#     Y_train = data_1.iloc[train_index[i],-1]    \n",
        "#     Y_test = data_1.iloc[test_index[i],-1]  \n",
        "#     #Calling the Linear Regression Model\n",
        "#     model = LinearRegression()\n",
        "#     #Calling the fit and predict of the Linear Regression\n",
        "#     model = model.fit(X_train,Y_train)\n",
        "#     #Saving the models in the list \n",
        "#     Question1d.append(model)\n",
        "#     pred_test = model.predict(X_test)\n",
        "#     pred_train = model.predict(X_train)\n",
        "#     #Finding the mean squared error using the library\n",
        "#     mse_train =  mean_squared_error(list(Y_train),pred_train)\n",
        "#     mse_test = mean_squared_error(list(Y_test),pred_test)\n",
        "#     Q1_d = Q1_d.append({'Folds':i+1,'Training MSE':mse_train,'Validation MSE':mse_test},ignore_index=True)\n",
        "#   #Finding the mean Training and Validation MSE\n",
        "#   for i in Q1_d.index:\n",
        "#     sum_train += float(Q1_d['Training MSE'][i])\n",
        "#     sum_test += float(Q1_d['Validation MSE'][i])\n",
        "#   mean_train = sum_train/fold\n",
        "#   mean_test = sum_test/fold\n",
        "#   #Printing the values\n",
        "#   print(Q1_d)\n",
        "#   print(\"\\nMean Training MSE\",mean_train)\n",
        "#   print(\"Mean Validation MSE\",mean_test)\n",
        "#   #Saving the models\n",
        "#   joblib.dump(Question1d, 'Question1d.pkl')\n",
        "\n",
        "# data_1 = joblib.load('/content/data_1.pkl')\n",
        "# data_x = joblib.load('/content/data_x.pkl')\n",
        "# #Calling the Function\n",
        "# Question1d(data_x,data_1)"
      ],
      "execution_count": 18,
      "outputs": []
    },
    {
      "cell_type": "markdown",
      "metadata": {
        "id": "vscH9zG40Iiy"
      },
      "source": [
        "### **Question1d with save model**"
      ]
    },
    {
      "cell_type": "code",
      "metadata": {
        "id": "Mw2OFKeHzdEg",
        "outputId": "e8af99f6-123a-499d-b3e5-db892fb12c34",
        "colab": {
          "base_uri": "https://localhost:8080/",
          "height": 176
        }
      },
      "source": [
        "def Question1d(data_x,data_1):\n",
        "  #Columns for printing the values for each fold\n",
        "  columns_names = [\"Folds\",\"Training MSE\",\"Validation MSE\"]\n",
        "  Q1_d = pd.DataFrame(columns = columns_names)\n",
        "  sum_train=0\n",
        "  sum_test=0\n",
        "  mean_train=0\n",
        "  mean_test=0\n",
        "  #Loading the models\n",
        "  model = joblib.load('/content/Question1d.pkl')\n",
        "  #Splitting the data into 5-Folds\n",
        "  train_index,test_index,fold = k_folds(5)\n",
        "  #Loop for 5 folds\n",
        "  for i in range(fold):\n",
        "    X_train = data_x.loc[train_index[i],:]\n",
        "    X_test = data_x.loc[test_index[i],:]\n",
        "    Y_train = data_1.iloc[train_index[i],-1]    \n",
        "    Y_test = data_1.iloc[test_index[i],-1]  \n",
        "    pred_test = model[i].predict(X_test)\n",
        "    pred_train = model[i].predict(X_train)\n",
        "    #Finding the mean squared error using the library\n",
        "    mse_train =  mean_squared_error(list(Y_train),pred_train)\n",
        "    mse_test = mean_squared_error(list(Y_test),pred_test)\n",
        "    Q1_d = Q1_d.append({'Folds':i+1,'Training MSE':mse_train,'Validation MSE':mse_test},ignore_index=True)\n",
        "  #Finding the mean Training and Validation MSE\n",
        "  for i in Q1_d.index:\n",
        "    sum_train += float(Q1_d['Training MSE'][i])\n",
        "    sum_test += float(Q1_d['Validation MSE'][i])\n",
        "  mean_train = sum_train/fold\n",
        "  mean_test = sum_test/fold\n",
        "  #Printing the values\n",
        "  print(Q1_d)\n",
        "  print(\"\\nMean Training MSE\",mean_train)\n",
        "  print(\"Mean Validation MSE\",mean_test)\n",
        "\n",
        "data_1 = joblib.load('/content/data_1.pkl')\n",
        "data_x = joblib.load('/content/data_x.pkl')\n",
        "#Calling the Function\n",
        "Question1d(data_x,data_1)"
      ],
      "execution_count": 19,
      "outputs": [
        {
          "output_type": "stream",
          "text": [
            "   Folds  Training MSE  Validation MSE\n",
            "0    1.0      4.895320        4.569844\n",
            "1    2.0      4.690985        5.733193\n",
            "2    3.0      4.844798        4.788677\n",
            "3    4.0      4.871419        4.675476\n",
            "4    5.0      4.794609        4.998721\n",
            "\n",
            "Mean Training MSE 4.819426122937853\n",
            "Mean Validation MSE 4.953182160788158\n"
          ],
          "name": "stdout"
        }
      ]
    }
  ]
}